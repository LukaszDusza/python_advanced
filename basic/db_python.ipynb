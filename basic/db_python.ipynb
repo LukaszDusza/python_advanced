{
 "metadata": {
  "language_info": {
   "codemirror_mode": {
    "name": "ipython",
    "version": 3
   },
   "file_extension": ".py",
   "mimetype": "text/x-python",
   "name": "python",
   "nbconvert_exporter": "python",
   "pygments_lexer": "ipython3",
   "version": 3
  },
  "orig_nbformat": 2,
  "kernelspec": {
   "name": "python_defaultSpec_1595870964760",
   "display_name": "Python 3.8.3 32-bit"
  }
 },
 "nbformat": 4,
 "nbformat_minor": 2,
 "cells": [
  {
   "cell_type": "markdown",
   "metadata": {},
   "source": [
    "Python z bazą danych MySQL\n",
    "ps. odkomentuj polecenia, gdy nie masz bibliotek."
   ]
  },
  {
   "cell_type": "code",
   "execution_count": 1,
   "metadata": {
    "tags": []
   },
   "outputs": [],
   "source": [
    "# !python -m pip install mysql-connector-python"
   ]
  },
  {
   "cell_type": "code",
   "execution_count": 2,
   "metadata": {
    "tags": []
   },
   "outputs": [],
   "source": [
    "# !pip list"
   ]
  },
  {
   "cell_type": "code",
   "execution_count": 3,
   "metadata": {
    "tags": []
   },
   "outputs": [
    {
     "output_type": "stream",
     "name": "stdout",
     "text": "('information_schema',)\n('mydatabase',)\n('mysql',)\n('performance_schema',)\n('sys',)\n"
    }
   ],
   "source": [
    "import mysql.connector\n",
    "\n",
    "mydb = mysql.connector.connect( #w obiekcie mydb przechowujemy polaczenie z mysql\n",
    "    host=\"localhost\",\n",
    "    user=\"root\",\n",
    "    password=\"root\")\n",
    "\n",
    "mycursor = mydb.cursor()\n",
    "mycursor.execute(\"DROP DATABASE IF EXISTS mydatabase\") # tu podajemy komendę SQL\n",
    "mycursor.execute(\"CREATE DATABASE mydatabase\")\n",
    "mycursor.execute(\"SHOW DATABASES\")\n",
    "\n",
    "for x in mycursor:    #tutaj iterujemy po wyniku jaki otrzymal mycursor po wykonaniu komendy\n",
    "    print(x)\n"
   ]
  },
  {
   "cell_type": "code",
   "execution_count": 4,
   "metadata": {},
   "outputs": [],
   "source": [
    "mycursor.execute(\"USE mydatabase\")"
   ]
  },
  {
   "cell_type": "code",
   "execution_count": 5,
   "metadata": {},
   "outputs": [],
   "source": [
    "mycursor.execute(\"SHOW TABLES\")\n",
    "\n",
    "for x in mycursor:\n",
    "    print(x)\n"
   ]
  },
  {
   "cell_type": "code",
   "execution_count": 6,
   "metadata": {},
   "outputs": [],
   "source": [
    "mycursor.execute(\"DROP TABLE IF EXISTS users\")\n",
    "mycursor.execute(\"CREATE TABLE users (id INT AUTO_INCREMENT PRIMARY KEY, name VARCHAR(15), email VARCHAR(25), points INT)\")"
   ]
  },
  {
   "cell_type": "code",
   "execution_count": 7,
   "metadata": {
    "tags": []
   },
   "outputs": [
    {
     "output_type": "stream",
     "name": "stdout",
     "text": "('users',)\n"
    }
   ],
   "source": [
    "mycursor.execute(\"SHOW TABLES\")\n",
    "\n",
    "for x in mycursor:\n",
    "    print(x)"
   ]
  },
  {
   "cell_type": "code",
   "execution_count": 8,
   "metadata": {
    "tags": []
   },
   "outputs": [
    {
     "output_type": "stream",
     "name": "stdout",
     "text": "('id', b'int', 'NO', 'PRI', None, 'auto_increment')\n('name', b'varchar(15)', 'YES', '', None, '')\n('email', b'varchar(25)', 'YES', '', None, '')\n('points', b'int', 'YES', '', None, '')\n"
    }
   ],
   "source": [
    "mycursor.execute(\"DESCRIBE users\")\n",
    "\n",
    "for x in mycursor:\n",
    "    print(x)"
   ]
  },
  {
   "cell_type": "code",
   "execution_count": 9,
   "metadata": {
    "tags": []
   },
   "outputs": [
    {
     "output_type": "stream",
     "name": "stdout",
     "text": "1 record inserted\n"
    }
   ],
   "source": [
    "sql = \"INSERT INTO users (name,email, points) values(%s, %s, %s)\" #?1, ?2, ?3  - wild cards\n",
    "values = (\"Zbyszek\",\"zbycho@python.pl\",0) \n",
    "# nawiasy tutaj oznaczają typ zmiennej jako tupl'a - lista immutable, zbiór którego zawartości nie mozna modyfikować.\n",
    "\n",
    "mycursor.execute(sql, values)\n",
    "mydb.commit() # pomimo wykonania execute() musimy zakomitować zmianę w bazie.\n",
    "print(mycursor.rowcount, \"record inserted\")"
   ]
  },
  {
   "cell_type": "code",
   "execution_count": 10,
   "metadata": {
    "tags": []
   },
   "outputs": [
    {
     "output_type": "stream",
     "name": "stdout",
     "text": "(1, 'Zbyszek', 'zbycho@python.pl', 0)\n"
    }
   ],
   "source": [
    "mycursor.execute(\"SELECT * FROM users\")\n",
    "\n",
    "for x in mycursor:\n",
    "    print(x)"
   ]
  },
  {
   "cell_type": "markdown",
   "metadata": {},
   "source": [
    "END"
   ]
  },
  {
   "cell_type": "markdown",
   "metadata": {},
   "source": [
    "kod tylko do drukowania notebooka do HTML:"
   ]
  },
  {
   "cell_type": "code",
   "execution_count": 11,
   "metadata": {},
   "outputs": [
    {
     "output_type": "display_data",
     "data": {
      "application/javascript": "IPython.notebook.save_notebook()"
     },
     "metadata": {}
    }
   ],
   "source": [
    "from IPython.display import Javascript\n",
    "from nbconvert import HTMLExporter\n",
    "import time\n",
    "\n",
    "def save_notebook():\n",
    "    display(\n",
    "        Javascript(\"IPython.notebook.save_notebook()\"),\n",
    "        include=['application/javascript']\n",
    "    )\n",
    "\n",
    "def output_HTML(read_file, output_file):\n",
    "    import codecs\n",
    "    import nbformat\n",
    "    exporter = HTMLExporter()\n",
    "    # read_file is '.ipynb', db_python_mysql is '.html'\n",
    "    output_notebook = nbformat.read(read_file, as_version=4)\n",
    "    output, resources = exporter.from_notebook_node(output_notebook)\n",
    "    codecs.open(output_file, 'w', encoding='utf-8').write(output)\n",
    "\n",
    "save_notebook()\n",
    "time.sleep(3)\n",
    "current_file = 'db_python.ipynb'\n",
    "output_file = 'db_python_mysql.html'\n",
    "output_HTML(current_file, output_file)"
   ]
  }
 ]
}