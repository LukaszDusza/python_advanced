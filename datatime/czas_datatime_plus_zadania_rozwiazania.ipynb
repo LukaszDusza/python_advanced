{
 "cells": [
  {
   "cell_type": "markdown",
   "metadata": {
    "collapsed": true,
    "pycharm": {
     "name": "#%% md\n"
    }
   },
   "source": [
    "#### Przykład 1\n",
    "##### Tworzenie przykładowego obiektu aktualnej daty.  `datetime`"
   ]
  },
  {
   "cell_type": "code",
   "execution_count": 137,
   "outputs": [
    {
     "name": "stdout",
     "output_type": "stream",
     "text": [
      "2020-09-01 11:14:58.592530\n",
      "2020-09-01 11:14:58.592530\n",
      "['__add__', '__class__', '__delattr__', '__dir__', '__doc__', '__eq__', '__format__', '__ge__', '__getattribute__', '__gt__', '__hash__', '__init__', '__init_subclass__', '__le__', '__lt__', '__ne__', '__new__', '__radd__', '__reduce__', '__reduce_ex__', '__repr__', '__rsub__', '__setattr__', '__sizeof__', '__str__', '__sub__', '__subclasshook__', 'astimezone', 'combine', 'ctime', 'date', 'day', 'dst', 'fold', 'fromisocalendar', 'fromisoformat', 'fromordinal', 'fromtimestamp', 'hour', 'isocalendar', 'isoformat', 'isoweekday', 'max', 'microsecond', 'min', 'minute', 'month', 'now', 'replace', 'resolution', 'second', 'strftime', 'strptime', 'time', 'timestamp', 'timetuple', 'timetz', 'today', 'toordinal', 'tzinfo', 'tzname', 'utcfromtimestamp', 'utcnow', 'utcoffset', 'utctimetuple', 'weekday', 'year']\n",
      "Tue Sep  1 11:14:58 2020\n"
     ]
    }
   ],
   "source": [
    "# Import datetime from the datetime module\n",
    "from datetime import datetime\n",
    "\n",
    "# Compute the local datetime: local_dt\n",
    "local_dt = datetime.now()\n",
    "\n",
    "# Print the local datetime\n",
    "print(local_dt)\n",
    "\n",
    "date_object = datetime.today()\n",
    "print(date_object)\n",
    "\n",
    "# dir() pozwala wydrukować wszystkie atrybuty w module\n",
    "print(dir(datetime))\n",
    "\n",
    "print(date_object.ctime())"
   ],
   "metadata": {
    "collapsed": false,
    "pycharm": {
     "name": "#%%\n"
    }
   }
  },
  {
   "cell_type": "markdown",
   "source": [
    "#### Przykład 2\n",
    "##### Tworzenie przykładowego obiektu daty."
   ],
   "metadata": {
    "collapsed": false
   }
  },
  {
   "cell_type": "code",
   "execution_count": 138,
   "outputs": [
    {
     "name": "stdout",
     "output_type": "stream",
     "text": [
      "2019-04-13\n"
     ]
    }
   ],
   "source": [
    "# Import date\n",
    "from datetime import date\n",
    "\n",
    "d = date(2019, 4, 13)\n",
    "print(d)\n",
    "\n",
    "# Create Dates\n",
    "# two_dates = [date(2016, 10, 7), date(2017, 6, 21)] # dwie daty w tablicy"
   ],
   "metadata": {
    "collapsed": false,
    "pycharm": {
     "name": "#%%\n"
    }
   }
  },
  {
   "cell_type": "markdown",
   "source": [
    "#### Przykład 3\n",
    "##### Atrybuty obiektu daty."
   ],
   "metadata": {
    "collapsed": false
   }
  },
  {
   "cell_type": "code",
   "execution_count": 139,
   "outputs": [
    {
     "name": "stdout",
     "output_type": "stream",
     "text": [
      "2016\n",
      "10\n",
      "7\n"
     ]
    }
   ],
   "source": [
    "# Import date\n",
    "from datetime import date\n",
    "\n",
    "# Create Dates\n",
    "two_dates = [date(2016, 10, 7), date(2017, 6, 21)]\n",
    "\n",
    "print(two_dates[0].year)\n",
    "print(two_dates[0].month)\n",
    "print(two_dates[0].day)"
   ],
   "metadata": {
    "collapsed": false,
    "pycharm": {
     "name": "#%%\n"
    }
   }
  },
  {
   "cell_type": "markdown",
   "source": [
    "#### Przykład 4\n",
    "##### Data z sygnatury czasowej. `timestamp`"
   ],
   "metadata": {
    "collapsed": false
   }
  },
  {
   "cell_type": "code",
   "execution_count": 140,
   "outputs": [
    {
     "name": "stdout",
     "output_type": "stream",
     "text": [
      "Date = 2012-01-11\n"
     ]
    }
   ],
   "source": [
    "from datetime import date\n",
    "\n",
    "timestamp = date.fromtimestamp(1326244364)\n",
    "print(\"Date =\", timestamp)"
   ],
   "metadata": {
    "collapsed": false,
    "pycharm": {
     "name": "#%%\n"
    }
   }
  },
  {
   "cell_type": "markdown",
   "source": [
    "##### Przykład 5\n",
    "#### Obiekt czasu. `time`"
   ],
   "metadata": {
    "collapsed": false,
    "pycharm": {
     "name": "#%% md\n"
    }
   }
  },
  {
   "cell_type": "code",
   "execution_count": 141,
   "outputs": [
    {
     "name": "stdout",
     "output_type": "stream",
     "text": [
      "a = 00:00:00\n",
      "b = 11:34:56\n",
      "c = 11:34:56\n",
      "d = 11:34:56.234566\n"
     ]
    }
   ],
   "source": [
    "from datetime import time\n",
    "\n",
    "# time(hour = 0, minute = 0, second = 0)\n",
    "a = time()\n",
    "print(\"a =\", a)\n",
    "\n",
    "# time(hour, minute and second)\n",
    "b = time(11, 34, 56)\n",
    "print(\"b =\", b)\n",
    "\n",
    "# time(hour, minute and second)\n",
    "c = time(hour = 11, minute = 34, second = 56)\n",
    "print(\"c =\", c)\n",
    "\n",
    "# time(hour, minute, second, microsecond)\n",
    "d = time(11, 34, 56, 234566)\n",
    "print(\"d =\", d)"
   ],
   "metadata": {
    "collapsed": false,
    "pycharm": {
     "name": "#%%\n"
    }
   }
  },
  {
   "cell_type": "markdown",
   "source": [
    "#### Przykład 6\n",
    "##### Drukowanie godziny, minuty, sekundy i mikrosekundy."
   ],
   "metadata": {
    "collapsed": false
   }
  },
  {
   "cell_type": "code",
   "source": [
    "from datetime import time\n",
    "\n",
    "a = time(11, 34, 56)\n",
    "\n",
    "print(\"hour =\", a.hour)\n",
    "print(\"minute =\", a.minute)\n",
    "print(\"second =\", a.second)\n",
    "print(\"microsecond =\", a.microsecond)"
   ],
   "metadata": {
    "collapsed": false,
    "pycharm": {
     "name": "#%%\n"
    }
   },
   "execution_count": 142,
   "outputs": [
    {
     "name": "stdout",
     "output_type": "stream",
     "text": [
      "hour = 11\n",
      "minute = 34\n",
      "second = 56\n",
      "microsecond = 0\n"
     ]
    }
   ]
  },
  {
   "cell_type": "markdown",
   "source": [
    "#### Przykład 7"
   ],
   "metadata": {
    "collapsed": false
   }
  },
  {
   "cell_type": "code",
   "execution_count": 143,
   "outputs": [
    {
     "name": "stdout",
     "output_type": "stream",
     "text": [
      "year = 2017\n",
      "month = 11\n",
      "hour = 23\n",
      "minute = 55\n",
      "timestamp = 1511909759.34238\n"
     ]
    }
   ],
   "source": [
    "from datetime import datetime\n",
    "\n",
    "a = datetime(2017, 11, 28, 23, 55, 59, 342380)\n",
    "print(\"year =\", a.year)\n",
    "print(\"month =\", a.month)\n",
    "print(\"hour =\", a.hour)\n",
    "print(\"minute =\", a.minute)\n",
    "print(\"timestamp =\", a.timestamp())"
   ],
   "metadata": {
    "collapsed": false,
    "pycharm": {
     "name": "#%%\n"
    }
   }
  },
  {
   "cell_type": "markdown",
   "source": [
    "#### Przykład 8\n",
    "##### Delta czasu. Różnica pomiędzy dwoma datami. `datetime.timedelta`"
   ],
   "metadata": {
    "collapsed": false
   }
  },
  {
   "cell_type": "code",
   "execution_count": 144,
   "outputs": [
    {
     "name": "stdout",
     "output_type": "stream",
     "text": [
      "t3 = 201 days, 0:00:00\n",
      "t6 = -333 days, 1:14:20\n",
      "type of t3 = <class 'datetime.timedelta'>\n",
      "type of t6 = <class 'datetime.timedelta'>\n"
     ]
    }
   ],
   "source": [
    "from datetime import datetime, date\n",
    "\n",
    "t1 = date(year = 2018, month = 7, day = 12)\n",
    "t2 = date(year = 2017, month = 12, day = 23)\n",
    "t3 = t1 - t2\n",
    "print(\"t3 =\", t3)\n",
    "\n",
    "t4 = datetime(year = 2018, month = 7, day = 12, hour = 7, minute = 9, second = 33)\n",
    "t5 = datetime(year = 2019, month = 6, day = 10, hour = 5, minute = 55, second = 13)\n",
    "t6 = t4 - t5\n",
    "print(\"t6 =\", t6)\n",
    "\n",
    "print(\"type of t3 =\", type(t3))\n",
    "print(\"type of t6 =\", type(t6))"
   ],
   "metadata": {
    "collapsed": false,
    "pycharm": {
     "name": "#%%\n"
    }
   }
  },
  {
   "cell_type": "markdown",
   "source": [
    "#### Przykład 9"
   ],
   "metadata": {
    "collapsed": false
   }
  },
  {
   "cell_type": "code",
   "execution_count": 145,
   "outputs": [
    {
     "name": "stdout",
     "output_type": "stream",
     "text": [
      "t3 = 14 days, 13:55:39\n"
     ]
    }
   ],
   "source": [
    "from datetime import timedelta\n",
    "\n",
    "t1 = timedelta(weeks = 2, days = 5, hours = 1, seconds = 33)\n",
    "t2 = timedelta(days = 4, hours = 11, minutes = 4, seconds = 54)\n",
    "t3 = t1 - t2\n",
    "\n",
    "print(\"t3 =\", t3)"
   ],
   "metadata": {
    "collapsed": false,
    "pycharm": {
     "name": "#%%\n"
    }
   }
  },
  {
   "cell_type": "markdown",
   "source": [
    "#### Przykład 10\n",
    "##### Czas w sekundach. `total_seconds()`"
   ],
   "metadata": {
    "collapsed": false
   }
  },
  {
   "cell_type": "code",
   "execution_count": 146,
   "outputs": [
    {
     "name": "stdout",
     "output_type": "stream",
     "text": [
      "total seconds = 435633.233423\n"
     ]
    }
   ],
   "source": [
    "from datetime import timedelta\n",
    "\n",
    "t = timedelta(days = 5, hours = 1, seconds = 33, microseconds = 233423)\n",
    "print(\"total seconds =\", t.total_seconds())"
   ],
   "metadata": {
    "collapsed": false,
    "pycharm": {
     "name": "#%%\n"
    }
   }
  },
  {
   "cell_type": "markdown",
   "source": [
    "*Możesz również wykonać sumę dwóch dat i godzin za pomocą operatora `+`. Możesz także pomnożyć i podzielić obiekt timedelta przez liczby całkowite i zmiennoprzecinkowe.*"
   ],
   "metadata": {
    "collapsed": false
   }
  },
  {
   "cell_type": "markdown",
   "source": [
    "### Formatowanie daty.\n",
    "\n",
    "Sposób przedstawienia daty i godziny może być różny w różnych miejscach, organizacjach itp. W Stanach Zjednoczonych używa się częściej `mm/dd/rrrr`, podczas gdy w Polsce częściej używa się `dd/mm/rrrr`. Python ma do tego metody `strftime()` i `strptime()`."
   ],
   "metadata": {
    "collapsed": false
   }
  },
  {
   "cell_type": "markdown",
   "source": [
    "#### Przykład 11\n",
    "##### Metoda __`strftime()`__"
   ],
   "metadata": {
    "collapsed": false
   }
  },
  {
   "cell_type": "code",
   "execution_count": 147,
   "outputs": [
    {
     "name": "stdout",
     "output_type": "stream",
     "text": [
      "time: 11:14:58\n",
      "s1: 09/01/2020, 11:14:58\n",
      "s2: 01/09/2020, 11:14:58\n"
     ]
    }
   ],
   "source": [
    "from datetime import datetime\n",
    "\n",
    "# current date and time\n",
    "now = datetime.now()\n",
    "\n",
    "t = now.strftime(\"%H:%M:%S\")\n",
    "print(\"time:\", t)\n",
    "\n",
    "s1 = now.strftime(\"%m/%d/%Y, %H:%M:%S\")\n",
    "# mm/dd/YY H:M:S format\n",
    "print(\"s1:\", s1)\n",
    "\n",
    "s2 = now.strftime(\"%d/%m/%Y, %H:%M:%S\")\n",
    "# dd/mm/YY H:M:S format\n",
    "print(\"s2:\", s2)"
   ],
   "metadata": {
    "collapsed": false,
    "pycharm": {
     "name": "#%%\n"
    }
   }
  },
  {
   "cell_type": "markdown",
   "source": [
    "#### Przykład 12\n",
    "##### Metoda __`strptime()`__\n",
    "*Zamiana tekstu na obiekt daty*"
   ],
   "metadata": {
    "collapsed": false
   }
  },
  {
   "cell_type": "code",
   "execution_count": 148,
   "outputs": [
    {
     "name": "stdout",
     "output_type": "stream",
     "text": [
      "date_string = 21 June, 2018\n",
      "date_object = 2018-06-21 00:00:00\n"
     ]
    }
   ],
   "source": [
    "from datetime import datetime\n",
    "\n",
    "date_string = \"21 June, 2018\"\n",
    "print(\"date_string =\", date_string)\n",
    "\n",
    "date_object = datetime.strptime(date_string, \"%d %B, %Y\")\n",
    "print(\"date_object =\", date_object)"
   ],
   "metadata": {
    "collapsed": false,
    "pycharm": {
     "name": "#%%\n"
    }
   }
  },
  {
   "cell_type": "markdown",
   "source": [
    "#### Przykład 13\n",
    "##### Wyznaczanie stref czasowych przy przy pomocy biblioteki `pytz`"
   ],
   "metadata": {
    "collapsed": false,
    "pycharm": {
     "name": "#%% md\n"
    }
   }
  },
  {
   "cell_type": "code",
   "execution_count": 149,
   "outputs": [
    {
     "name": "stdout",
     "output_type": "stream",
     "text": [
      "Defaulting to user installation because normal site-packages is not writeable\n",
      "Requirement already satisfied: pytz in c:\\users\\abc\\appdata\\roaming\\python\\python38\\site-packages (2020.1)\n",
      "Local: 09/01/2020, 11:14:59\n",
      "NY: 09/01/2020, 05:14:59\n",
      "London: 09/01/2020, 10:14:59\n"
     ]
    }
   ],
   "source": [
    "! python -m pip install pytz\n",
    "\n",
    "from datetime import datetime\n",
    "import pytz\n",
    "\n",
    "local = datetime.now()\n",
    "print(\"Local:\", local.strftime(\"%m/%d/%Y, %H:%M:%S\"))\n",
    "\n",
    "tz_NY = pytz.timezone('America/New_York')\n",
    "datetime_NY = datetime.now(tz_NY)\n",
    "print(\"NY:\", datetime_NY.strftime(\"%m/%d/%Y, %H:%M:%S\"))\n",
    "\n",
    "tz_London = pytz.timezone('Europe/London')\n",
    "datetime_London = datetime.now(tz_London)\n",
    "print(\"London:\", datetime_London.strftime(\"%m/%d/%Y, %H:%M:%S\"))"
   ],
   "metadata": {
    "collapsed": false,
    "pycharm": {
     "name": "#%%\n"
    }
   }
  },
  {
   "cell_type": "markdown",
   "source": [
    "#### Przykłąd 14\n",
    "##### Zamiana daty na tekst. `datetime`"
   ],
   "metadata": {
    "collapsed": false
   }
  },
  {
   "cell_type": "code",
   "execution_count": 150,
   "outputs": [
    {
     "name": "stdout",
     "output_type": "stream",
     "text": [
      "year: 2020\n",
      "month: 09\n",
      "day: 01\n",
      "time: 11:14:59\n",
      "date and time: 09/01/2020, 11:14:59\n",
      "<class 'str'>\n"
     ]
    }
   ],
   "source": [
    "from datetime import datetime\n",
    "\n",
    "now = datetime.now() # current date and time\n",
    "\n",
    "year = now.strftime(\"%Y\")\n",
    "print(\"year:\", year)\n",
    "\n",
    "month = now.strftime(\"%m\")\n",
    "print(\"month:\", month)\n",
    "\n",
    "day = now.strftime(\"%d\")\n",
    "print(\"day:\", day)\n",
    "\n",
    "time = now.strftime(\"%H:%M:%S\")\n",
    "print(\"time:\", time)\n",
    "\n",
    "date_time = now.strftime(\"%m/%d/%Y, %H:%M:%S\")\n",
    "print(\"date and time:\",date_time)\n",
    "\n",
    "print(type(date_time))"
   ],
   "metadata": {
    "collapsed": false,
    "pycharm": {
     "name": "#%%\n"
    }
   }
  },
  {
   "cell_type": "markdown",
   "source": [
    "#### Przykład 15\n",
    "##### Tworzenie daty w formie tekstowej z `timestamp` Metoda `fromtimestamp()`"
   ],
   "metadata": {
    "collapsed": false
   }
  },
  {
   "cell_type": "code",
   "execution_count": 151,
   "outputs": [
    {
     "name": "stdout",
     "output_type": "stream",
     "text": [
      "Date time object: 2018-06-12 11:55:22\n",
      "Output 2: 06/12/2018, 11:55:22\n",
      "Output 3: 12 Jun, 2018\n",
      "Output 4: 12 June, 2018\n",
      "Output 5: 11AM\n"
     ]
    }
   ],
   "source": [
    "from datetime import datetime\n",
    "\n",
    "timestamp = 1528797322\n",
    "date_time = datetime.fromtimestamp(timestamp)\n",
    "\n",
    "print(\"Date time object:\", date_time)\n",
    "\n",
    "d = date_time.strftime(\"%m/%d/%Y, %H:%M:%S\")\n",
    "print(\"Output 2:\", d)\n",
    "\n",
    "d = date_time.strftime(\"%d %b, %Y\")\n",
    "print(\"Output 3:\", d)\n",
    "\n",
    "d = date_time.strftime(\"%d %B, %Y\")\n",
    "print(\"Output 4:\", d)\n",
    "\n",
    "d = date_time.strftime(\"%I%p\")\n",
    "print(\"Output 5:\", d)"
   ],
   "metadata": {
    "collapsed": false,
    "pycharm": {
     "name": "#%%\n"
    }
   }
  },
  {
   "cell_type": "code",
   "source": [
    "# %a\tSkrócona nazwa dnia tygodnia.\tNie, pon, ...\n",
    "# %A\tPełna nazwa dnia tygodnia.\tNiedziela poniedziałek, ...\n",
    "# %w\tDzień tygodnia jako liczba dziesiętna.\t0, 1, ..., 6\n",
    "# %d\tDzień miesiąca jako ułamek dziesiętny z wypełnieniem zerowym.\t01, 02, ..., 31\n",
    "# %-d\tDzień miesiąca jako liczba dziesiętna.\t1, 2, ..., 30\n",
    "# %b\tSkrócona nazwa miesiąca.\tJan, luty, ..., grudzień\n",
    "# %B\tPełna nazwa miesiąca.\tStyczeń luty, ...\n",
    "# %m\tMiesiąc jako liczba dziesiętna z zerami.\t01, 02, ..., 12\n",
    "# %-m\tMiesiąc jako liczba dziesiętna.\t1, 2, ..., 12\n",
    "# %y\tRok bez wieku jako liczba dziesiętna z uzupełnieniem zerowym.\t00, 01, ..., 99\n",
    "# %-y\tRok bez wieku jako liczba dziesiętna.\t0, 1, ..., 99\n",
    "# %Y\tRok z podaniem wieku jako liczby dziesiętnej.\t2013, 2019 itd.\n",
    "# %H\tGodzina (zegar 24-godzinny) jako liczba dziesiętna z zerami.\t00, 01, ..., 23\n",
    "# %-H\tGodzina (zegar 24-godzinny) jako liczba dziesiętna.\t0, 1, ..., 23\n",
    "# %I\tGodzina (zegar 12-godzinny) jako liczba dziesiętna z zerami.\t01, 02, ..., 12\n",
    "# %-I\tGodzina (zegar 12-godzinny) jako liczba dziesiętna.\t1, 2, ... 12\n",
    "# %p\tLokalne AM lub PM.\tAM, PM\n",
    "# %M\tMinuta jako liczba dziesiętna z zerami.\t00, 01, ..., 59\n",
    "# %-M\tMinuta jako liczba dziesiętna.\t0, 1, ..., 59\n",
    "# %S\tPo drugie jako liczba dziesiętna z zerami.\t00, 01, ..., 59\n",
    "# %-S\tDrugi jako liczba dziesiętna.\t0, 1, ..., 59\n",
    "# %f\tMikrosekunda jako liczba dziesiętna, dopełniona zerami po lewej stronie.\t000000 - 999999\n",
    "# %z\tPrzesunięcie czasu UTC w postaci + GGMM lub -GGMM.\n",
    "# %Z\tNazwa strefy czasowej.\n",
    "# %j\tDzień roku jako liczba dziesiętna z zerami.\t001, 002, ..., 366\n",
    "# %-j\tDzień roku jako liczba dziesiętna.\t1, 2, ..., 366\n",
    "# %U\tNumer tygodnia w roku (niedziela jako pierwszy dzień tygodnia). Wszystkie dni w nowym roku poprzedzające pierwszą niedzielę są uważane za tydzień 0.\t00, 01, ..., 53\n",
    "# %W\tNumer tygodnia w roku (poniedziałek jako pierwszy dzień tygodnia). Wszystkie dni w nowym roku poprzedzające pierwszy poniedziałek przypadają na tydzień 0.\t00, 01, ..., 53\n",
    "# %c\tOdpowiednia reprezentacja daty i czasu w ustawieniach regionalnych.\tPoniedziałek, 30 września, 07:06:05 2013\n",
    "# %x\tWłaściwa reprezentacja daty dla lokalizacji.\t30.09.13\n",
    "# %X\tOdpowiednia reprezentacja czasu w języku lokalnym.\t07:06:05\n",
    "# %%\tDosłowny znak „%”.\t%"
   ],
   "metadata": {
    "collapsed": false,
    "pycharm": {
     "name": "#%%\n"
    }
   },
   "execution_count": 152,
   "outputs": []
  },
  {
   "cell_type": "markdown",
   "source": [
    "#### Przykład 16"
   ],
   "metadata": {
    "collapsed": false
   }
  },
  {
   "cell_type": "code",
   "execution_count": 153,
   "outputs": [
    {
     "name": "stdout",
     "output_type": "stream",
     "text": [
      "Output 1: Tue Jun 12 11:55:22 2018\n",
      "Output 2: 06/12/18\n",
      "Output 3: 11:55:22\n"
     ]
    }
   ],
   "source": [
    "from datetime import datetime\n",
    "\n",
    "timestamp = 1528797322\n",
    "date_time = datetime.fromtimestamp(timestamp)\n",
    "\n",
    "d = date_time.strftime(\"%c\")\n",
    "print(\"Output 1:\", d)\n",
    "\n",
    "d = date_time.strftime(\"%x\")\n",
    "print(\"Output 2:\", d)\n",
    "\n",
    "d = date_time.strftime(\"%X\")\n",
    "print(\"Output 3:\", d)"
   ],
   "metadata": {
    "collapsed": false,
    "pycharm": {
     "name": "#%%\n"
    }
   }
  },
  {
   "cell_type": "markdown",
   "source": [
    "#### __Zadania `datatime`__"
   ],
   "metadata": {
    "collapsed": false
   }
  },
  {
   "cell_type": "markdown",
   "source": [
    "#### Zadanie 1\n",
    "Wyświetl na ekranie aktualną datę."
   ],
   "metadata": {
    "collapsed": false
   }
  },
  {
   "cell_type": "code",
   "execution_count": 154,
   "outputs": [],
   "source": [
    "from datetime import datetime\n",
    "local_dt = datetime.now()"
   ],
   "metadata": {
    "collapsed": false,
    "pycharm": {
     "name": "#%%\n"
    }
   }
  },
  {
   "cell_type": "markdown",
   "source": [
    "#### Zadanie 2\n",
    "Stwórz skrypt, który obliczy ile użytkownik żyje dni, gdy wprowadzi swoją datę urodzin."
   ],
   "metadata": {
    "collapsed": false
   }
  },
  {
   "cell_type": "code",
   "execution_count": 155,
   "outputs": [
    {
     "name": "stdout",
     "output_type": "stream",
     "text": [
      "Żyjesz już  15241 dni\n"
     ]
    }
   ],
   "source": [
    "from datetime import datetime\n",
    "\n",
    "# user_date = input(\"Podaj rok urodzenia w formacie dd-mm-yyyy: \")\n",
    "user_date = \"10-12-1978\"\n",
    "date_now = datetime.now()\n",
    "date_object = datetime.strptime(user_date, \"%d-%m-%Y\")\n",
    "date = date_now - date_object\n",
    "print(f\"Żyjesz już  {date.days} dni\")"
   ],
   "metadata": {
    "collapsed": false,
    "pycharm": {
     "name": "#%%\n"
    }
   }
  },
  {
   "cell_type": "markdown",
   "source": [
    "#### Zadanie 3\n",
    "Stwórz skrypt, który obliczy datę od podanje liczby całkowitej. np. podając 100, program wyliczy dzień, miesiąc i rok za 100dni.\n",
    "Wydrukuj wartość w `formie dd-mm-yyyy` bez godzin, minut i sekund."
   ],
   "metadata": {
    "collapsed": false
   }
  },
  {
   "cell_type": "code",
   "execution_count": 156,
   "outputs": [
    {
     "name": "stdout",
     "output_type": "stream",
     "text": [
      "10-12-2020\n"
     ]
    }
   ],
   "source": [
    "from datetime import timedelta\n",
    "\n",
    "def some_date(days):\n",
    "    return datetime.now() + timedelta(days=days)\n",
    "\n",
    "print(some_date(100).strftime(\"%d-%m-%Y\"))"
   ],
   "metadata": {
    "collapsed": false,
    "pycharm": {
     "name": "#%%\n"
    }
   }
  },
  {
   "cell_type": "markdown",
   "source": [
    "#### Zadanie 4\n",
    "Zbuduj skrypt, który pomoże ci ustalić ile dni czasu pomiędzy dwoma datami.\n",
    "Możesz przypisać dwie daty w formie tekstowej do zmiennych string i wykonać logikę. Wykorzystaj tutaj `datetime`"
   ],
   "metadata": {
    "collapsed": false
   }
  },
  {
   "cell_type": "code",
   "execution_count": 157,
   "outputs": [
    {
     "name": "stdout",
     "output_type": "stream",
     "text": [
      "3387\n"
     ]
    }
   ],
   "source": [
    "from datetime import datetime\n",
    "\n",
    "string_date_1 = \"2010-10-12\"\n",
    "string_date_2 = \"2020-01-20\"\n",
    "date = datetime.strptime(string_date_2, \"%Y-%m-%d\") - datetime.strptime(string_date_1, \"%Y-%m-%d\")\n",
    "print(date.days)"
   ],
   "metadata": {
    "collapsed": false,
    "pycharm": {
     "name": "#%%\n"
    }
   }
  },
  {
   "cell_type": "markdown",
   "source": [
    "#### Zadanie 5\n",
    "Musisz stworzyć skrypt, który zamieni datę wejściową w formacie: __`21 March, 2020`__ na format obiektu python: __`2020-03-21`__"
   ],
   "metadata": {
    "collapsed": false
   }
  },
  {
   "cell_type": "code",
   "execution_count": 158,
   "outputs": [
    {
     "name": "stdout",
     "output_type": "stream",
     "text": [
      "date_object: 2020-03-21\n"
     ]
    }
   ],
   "source": [
    "from datetime import datetime\n",
    "\n",
    "date_string = \"21 March, 2020\"\n",
    "date_object = datetime.strptime(date_string, \"%d %B, %Y\")\n",
    "print(f\"date_object: {date_object.date()}\")"
   ],
   "metadata": {
    "collapsed": false,
    "pycharm": {
     "name": "#%%\n"
    }
   }
  },
  {
   "cell_type": "markdown",
   "source": [
    "#### Zadanie 6\n",
    "Musisz napisać program, który odczyta z pliku wszystkie daty w formie tekstu i obliczy ile mineło dni do dnia dzisiejszego.\n",
    "Stwórz plik `dates.txt` i zapisz w nim minimum 5 dat. Po uruchomieniu program powinien wyświetlić taki output: <br>\n",
    "`Od 2010-12-31 mineło 365 dni` <br>\n",
    "`Od 2009-12-31 mineło 790 dni` <br>\n",
    "\n",
    "*Być może będziesz musiał wyczyścić odczytaną wartośc z pliku, bo nie zawsze text jest wolny od znaków specjalnych (np. znak \\n po każdej dacie), niewidocznych podczas drukowania na ekran.*"
   ],
   "metadata": {
    "collapsed": false
   }
  },
  {
   "cell_type": "code",
   "execution_count": 159,
   "outputs": [
    {
     "name": "stdout",
     "output_type": "stream",
     "text": [
      "Od 2020-01-10 mineło 235 dni.\n",
      "Od 2020-02-10 mineło 204 dni.\n",
      "Od 2020-03-10 mineło 175 dni.\n"
     ]
    }
   ],
   "source": [
    "from datetime import datetime\n",
    "f = open(r\"E:\\akademia\\python_advanced\\datatime\\date_file.txt\", \"r\", encoding=\"utf-8\")\n",
    "for x in f:\n",
    "    date = datetime.now() - datetime.strptime(x.rstrip(),\"%Y-%m-%d\")\n",
    "    print(f\"Od {x.rstrip()} mineło {date.days} dni.\")"
   ],
   "metadata": {
    "collapsed": false,
    "pycharm": {
     "name": "#%%\n"
    }
   }
  },
  {
   "cell_type": "markdown",
   "source": [
    "#### Zadanie 7\n",
    "Musisz napisać timer, który wskaże aktualny czas w wybranej strefie czasowej. <br>\n",
    "Aplikacja powinna posiadać konsolowe menu. Użytkownik podaje strefę czasową pisząc na klawiaturze, a program wyświetla aktualny czas z danej strefy.\n",
    "menu powinno zawierać: <br>\n",
    "`1. podaj strefę czasową`<br>\n",
    "`2. pokaż dostępne strefy czasowe`<br>\n",
    "`0. wyjdź z programu`<br>\n",
    "\n",
    "Po wyborze strefy czasowj, program wyświetla: <br>\n",
    "\n",
    "`Aktuana data i godzina w <strefa czasowa>`<br>\n",
    "`1. wróć na początek`<br>\n",
    "`0. wyjdź z programu`<br>\n",
    "Przy czym strefy czasowe muszą być zapisane w pliku, dla łatwego rozbudowania aplikacji o nowe strefy czasowe."
   ],
   "metadata": {
    "collapsed": false
   }
  },
  {
   "cell_type": "code",
   "execution_count": 160,
   "outputs": [
    {
     "name": "stdout",
     "output_type": "stream",
     "text": [
      "America/Canada: 09/01/2020, 05:15:00\n"
     ]
    }
   ],
   "source": [
    "#! python -m pip install pytz zainstaluj zależność\n",
    "\n",
    "from datetime import datetime\n",
    "import pytz\n",
    "\n",
    "time_zone_text = \"America/Canada\"\n",
    "tz_NY = pytz.timezone('America/New_York')\n",
    "datetime_TZ = datetime.now(tz_NY)\n",
    "print(f\"{time_zone_text}: {datetime_TZ.strftime('%m/%d/%Y, %H:%M:%S')}\")\n",
    "\n",
    "# to rozwiązanie nie obejmuje menu i pobierania z pliku, ale zawiera cała logikę, którę należy dołączyć do logiki menu/plik"
   ],
   "metadata": {
    "collapsed": false,
    "pycharm": {
     "name": "#%%\n"
    }
   }
  },
  {
   "cell_type": "markdown",
   "source": [
    "#### Zadanie 8\n",
    "Stwórz aplikację *__\"Pamiętnik\"__* <br>\n",
    "\n",
    "Aplikacja umożliwia użytkownikowi wpisanie notatki składającej się z 300 znaków. Aplikacja zapisuje notatki w formie plików tekstowych, <br>\n",
    "gdzie nazwa pliku to data notatki w formacie: <br>\n",
    "`tytul_notatki_YYYY-mm-DD_HH_mm_ss.txt` <br>\n",
    "Aplikacja wyświetla menu: <br>\n",
    "`1. dodaj nową notatkę`<br>\n",
    "`2. wyjdź z aplikacji`<br>\n",
    "`3. wyświetl wszystkie notatki` <br>\n",
    "`0. wyjdź z programu`"
   ],
   "metadata": {
    "collapsed": false
   }
  },
  {
   "cell_type": "code",
   "execution_count": 161,
   "outputs": [],
   "source": [
    "from datetime import datetime\n",
    "\n",
    "def main(title, text):\n",
    "    file_name = f\"{title}_{datetime.now().strftime('%Y-%m-%d_%H_%M_%S')}\"\n",
    "    plik_wy = fr\"E:\\akademia\\python_advanced\\datatime\\{file_name}.txt\"\n",
    "    text_separ = \"- + \" * 10\n",
    "    try:\n",
    "        with open(plik_wy, \"w\", encoding=\"utf-8\") as wy:\n",
    "          wy.write(text + \"\\n\" + text_separ + \"\\n\")\n",
    "    except FileNotFoundError:\n",
    "        print(\"Nie znaleziono pliku\")\n",
    "\n",
    "main(\"moja_pierwsza_notatka\", \"przykładowy wpis\")\n",
    "\n",
    "# rozwiązanie zadania nie zawiera menu."
   ],
   "metadata": {
    "collapsed": false,
    "pycharm": {
     "name": "#%%\n"
    }
   }
  },
  {
   "cell_type": "code",
   "execution_count": null,
   "outputs": [],
   "source": [
    "# polecenie użyte do zapisu pliku w formie html\n",
    "# !jupyter nbconvert --execute --to html czas_datatime_plus_zadania_rozwiazania.ipynb"
   ],
   "metadata": {
    "collapsed": false,
    "pycharm": {
     "name": "#%%\n"
    }
   }
  }
 ],
 "metadata": {
  "kernelspec": {
   "name": "pycharm-e335a363",
   "language": "python",
   "display_name": "PyCharm (python_advanced)"
  },
  "language_info": {
   "codemirror_mode": {
    "name": "ipython",
    "version": 2
   },
   "file_extension": ".py",
   "mimetype": "text/x-python",
   "name": "python",
   "nbconvert_exporter": "python",
   "pygments_lexer": "ipython2",
   "version": "2.7.6"
  }
 },
 "nbformat": 4,
 "nbformat_minor": 0
}