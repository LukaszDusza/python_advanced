{
 "cells": [
  {
   "cell_type": "markdown",
   "source": [
    "#### *Flask* jest to *framework* pozwalający w bardzo łatwy sposób uruchomić aplikacje webową w Pythonie.\n",
    "Aby dobrze wykorzystać ten framework, powinieneś orientować się w terminach takich jak: <br>\n",
    "- wzorzec projektowy dla web `REST API`,\n",
    "- metody `HTTP` `GET POST PUT PATCH DELETE`\n",
    "- jak wygląda przebieg wymiany danych pomiędzy komputerem (klinetem), a serwerem (hostem)"
   ],
   "metadata": {
    "collapsed": false,
    "pycharm": {
     "name": "#%% md\n"
    }
   }
  },
  {
   "cell_type": "markdown",
   "source": [
    "##### Zaimportuj biblioteki:"
   ],
   "metadata": {
    "collapsed": false,
    "pycharm": {
     "name": "#%% md\n"
    }
   }
  },
  {
   "cell_type": "code",
   "execution_count": 1,
   "metadata": {
    "collapsed": true
   },
   "outputs": [
    {
     "name": "stdout",
     "output_type": "stream",
     "text": [
      " * Serving Flask app \"__main__\" (lazy loading)\r\n",
      " * Environment: production\r\n",
      "   WARNING: This is a development server. Do not use it in a production deployment.\r\n",
      "   Use a production WSGI server instead.\r\n",
      " * Debug mode: on\r\n"
     ]
    },
    {
     "name": "stderr",
     "output_type": "stream",
     "text": [
      " * Restarting with stat\n",
      "e:\\projects\\python_advanced\\env\\lib\\site-packages\\IPython\\core\\interactiveshell.py:3425: UserWarning: To exit: use 'exit', 'quit', or Ctrl-D.\n",
      "  warn(\"To exit: use 'exit', 'quit', or Ctrl-D.\", stacklevel=1)\n"
     ]
    },
    {
     "ename": "SystemExit",
     "evalue": "1",
     "output_type": "error",
     "traceback": [
      "An exception has occurred, use %tb to see the full traceback.\n",
      "\u001B[1;31mSystemExit\u001B[0m\u001B[1;31m:\u001B[0m 1\n"
     ]
    }
   ],
   "source": [
    "# python -m pip install --upgrade pip\n",
    "# python -m pip install flask"
   ]
  },
  {
   "cell_type": "markdown",
   "source": [
    "##### *UWAGA* !!\n",
    "Aby uruchomić te przykłady musisz skopiować cały przykład i przenieść do dowolnego pliku Python.\n",
    "Stwórz plik np. python_demo.py i skopiuj cały kod.\n",
    "W tej samej lokalizacji stwórz folder `templates` i dodaj do niego plik `index.html`\n",
    "Uruchom swój plik `python_demo.py`"
   ],
   "metadata": {
    "collapsed": false,
    "pycharm": {
     "name": "#%% md\n"
    }
   }
  },
  {
   "cell_type": "markdown",
   "source": [
    "##### Przykład 1"
   ],
   "metadata": {
    "collapsed": false,
    "pycharm": {
     "name": "#%% md\n"
    }
   }
  },
  {
   "cell_type": "code",
   "execution_count": null,
   "outputs": [],
   "source": [
    "from flask import Flask, render_template\n",
    "\n",
    "app = Flask(__name__)\n",
    "\n",
    "''' @app.route to dekorator (adnotacja), która uruchamia metodę, do której przynależy.\n",
    "    W poniższym przypadku, gdy wywołasz http://localhost:8080/home\n",
    "    pojawi się strona index.html w przeglądarce.\n",
    "    Stanie się tak, ponieważ @app.route przekierowało twoje zapytanie o treści \"/home\"\n",
    "    na odpowiednik metody reprezentującej tą ścieżkę, czyli 'home_page()'\n",
    "'''\n",
    "\n",
    "@app.route(\"/home\", methods=[\"GET\"])\n",
    "def home_page():\n",
    "    return render_template(\"index.html\")\n",
    "\n",
    "@app.route(\"/about\", methods=[\"GET\"])\n",
    "def about_page():\n",
    "    return '''\n",
    "    <h1> To jest about page </h1>\n",
    "    '''\n",
    "\n",
    "''' Poniższy warunek wykona się tylko wówczas, gdy plik flask_demo.py zostanie uruchomiony bezpośrednio.\n",
    "    Jeśli plik ten zostanie uruchomiony pośrednio (np. przez zaimportowanie go w innym module) wówczas jego nazwa\n",
    "    będzie inna niż __main__\n",
    "'''\n",
    "\n",
    "''' Poniższy zapis wewnątrz warunku if, konfiguruje start naszej aplikacji flask.\n",
    "    Ustawiamy debug na włączony, oraz ustawiamy port, na którym nasłuchuje aplikacja.\n",
    "'''\n",
    "if __name__ == \"__main__\":\n",
    "     # app.run(port=8080, debug=True) # odkomentuj\n",
    "    pass                              # usuń/zakomentuj"
   ],
   "metadata": {
    "collapsed": false,
    "pycharm": {
     "name": "#%%\n"
    }
   }
  },
  {
   "cell_type": "markdown",
   "source": [
    "#### Przykład 2\n",
    "Tutaj przekazujemy obiekt do pliku `html` i go iterujemy na stronie `index.html`"
   ],
   "metadata": {
    "collapsed": false,
    "pycharm": {
     "name": "#%% md\n"
    }
   }
  },
  {
   "cell_type": "code",
   "execution_count": null,
   "outputs": [],
   "source": [
    "from flask import Flask, render_template\n",
    "\n",
    "app = Flask(__name__)\n",
    "\n",
    "posts = [\n",
    "    {\n",
    "        'author': 'John Doe',\n",
    "        'title': 'Blog Post 1',\n",
    "        'content': 'First post content',\n",
    "        'date_posted': 'April 20, 2018'\n",
    "    },\n",
    "    {\n",
    "        'author': 'Jane Doe',\n",
    "        'title': 'Blog Post 2',\n",
    "        'content': 'Second post content',\n",
    "        'date_posted': 'April 21, 2018'\n",
    "    }\n",
    "]\n",
    "\n",
    "@app.route(\"/home\")\n",
    "def home():\n",
    "    return render_template('index.html', posts=posts)\n",
    "\n",
    "if __name__ == \"__main__\":\n",
    "     # app.run(port=8080, debug=True) # odkomentuj\n",
    "    pass  # usuń/zakomentuj"
   ],
   "metadata": {
    "collapsed": false,
    "pycharm": {
     "name": "#%%\n"
    }
   }
  },
  {
   "cell_type": "code",
   "execution_count": null,
   "outputs": [],
   "source": [
    "# plik HTML poniżej:\n",
    "\n",
    "# <!DOCTYPE html>\n",
    "# <html lang=\"en\">\n",
    "# <head>\n",
    "#     <meta charset=\"UTF-8\">\n",
    "#     <meta name=\"viewport\" content=\"width=device-width, initial-scale=1.0\">\n",
    "#     <link rel=\"stylesheet\" href=\"https://stackpath.bootstrapcdn.com/bootstrap/4.5.0/css/bootstrap.min.css\"\n",
    "#           integrity=\"sha384-9aIt2nRpC12Uk9gS9baDl411NQApFmC26EwAOH8WgZl5MYYxFfc+NcPb1dKGj7Sk\" crossorigin=\"anonymous\">\n",
    "#\n",
    "#     <title>App python</title>\n",
    "# </head>\n",
    "# <body>\n",
    "#     <h6 class=\"text-center mt-4\">Witaj w aplikacji stworzonej we Flask! </h6>\n",
    "#\n",
    "#\n",
    "# {% for post in posts %}\n",
    "#         <article class=\"media content-section\">\n",
    "#           <div class=\"media-body\">\n",
    "#             <div class=\"article-metadata\">\n",
    "#               <a class=\"mr-2\" href=\"#\">{{ post.author }}</a>\n",
    "#               <small class=\"text-muted\">{{ post.date_posted }}</small>\n",
    "#             </div>\n",
    "#             <h2><a class=\"article-title\" href=\"#\">{{ post.title }}</a></h2>\n",
    "#             <p class=\"article-content\">{{ post.content }}</p>\n",
    "#           </div>\n",
    "#         </article>\n",
    "#     {% endfor %}\n",
    "#\n",
    "# </body>\n",
    "# </html>\n"
   ],
   "metadata": {
    "collapsed": false,
    "pycharm": {
     "name": "#%%\n"
    }
   }
  }
 ],
 "metadata": {
  "kernelspec": {
   "display_name": "Python 3",
   "language": "python",
   "name": "python3"
  },
  "language_info": {
   "codemirror_mode": {
    "name": "ipython",
    "version": 2
   },
   "file_extension": ".py",
   "mimetype": "text/x-python",
   "name": "python",
   "nbconvert_exporter": "python",
   "pygments_lexer": "ipython2",
   "version": "2.7.6"
  }
 },
 "nbformat": 4,
 "nbformat_minor": 0
}