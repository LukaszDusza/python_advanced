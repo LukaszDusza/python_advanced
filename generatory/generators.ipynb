{
 "cells": [
  {
   "cell_type": "markdown",
   "metadata": {
    "collapsed": true,
    "pycharm": {
     "name": "#%% md\n"
    }
   },
   "source": [
    "#### Generatory w Pythonie.\n",
    "Wyrażenia yield (`yield expressions`) pojawiły się w Pythonie 2.5 do definiowania funkcji generatora (`generator function`)\n",
    "zamiast zwykłej funkcji. Wyrażenia `yield` mogą się pojawić jedynie w ciele definicji funkcji.\n",
    "Z generatorów korzystamy zwykle wtedy, gdy nie potrzebujemy pamiętać pełnej listy,\n",
    "a lista jest tylko pewnym krokiem pośrednim w obliczeniach. Generatory to __*\"leniwe funkcje\"*__: obliczają wartości tylko wtedy, gdy są żądane.\n",
    "Generatory są iteratorami, bo obsługują metodę `next()`.\n",
    "Inne metody generatorów to `close()`, `send()`, `throw()`.\n",
    "Każde wyrażenie `yield` tymczasowo zatrzymuje przetwarzanie, zapamiętuje stan funkcji.\n",
    "Po wznowieniu generatora (ponownym wywołaniu) przetwarzanie jest kontunuowane od miejsca zatrzymania.\n",
    "Generatory są iteratorami, ale można po nich przejść tylko raz.\n",
    "Wartości generatora nie są przechowywane w pamięci, tylko są wytwarzane w locie (`on the fly`). <br>\n",
    "\n",
    "Listy składane są żarłoczne (`greedy`), obliczają wynik od razu, jako listę. Generatory są leniwe (`lazy`),\n",
    "obliczają jedną wartość na raz, kiedy jest potrzebna. Warto zapamiętać regułę:\n",
    "Korzystamy z list składanych, kiedy obliczona lista jest wymaganym wynikiem końcowym.\n",
    "Korzystamy z generatorów, jeżeli obliczana lista jest tylko pośrednim etapem obliczeń."
   ]
  },
  {
   "cell_type": "markdown",
   "source": [
    "#### Przykład"
   ],
   "metadata": {
    "collapsed": false
   }
  },
  {
   "cell_type": "code",
   "execution_count": 5,
   "outputs": [
    {
     "name": "stdout",
     "output_type": "stream",
     "text": [
      "[1, 4, 9, 16, 25, 36, 49, 64, 81]\n"
     ]
    }
   ],
   "source": [
    "# Standardowa metoda zapisująca nowe wartości do listy. Metoda zwraca nową listę i alokuje ją w pamięci.\n",
    "\n",
    "def square_numbers(nums):\n",
    "    results = []\n",
    "    for i in nums:\n",
    "        results.append(i * i)\n",
    "    return results\n",
    "print(square_numbers([1,2,3,4,5,6,7,8,9]))"
   ],
   "metadata": {
    "collapsed": false,
    "pycharm": {
     "name": "#%%\n"
    }
   }
  },
  {
   "cell_type": "code",
   "execution_count": 2,
   "outputs": [
    {
     "name": "stdout",
     "output_type": "stream",
     "text": [
      "<generator object square_numbers at 0x0000028BE8EB51C8>\n",
      "1\n",
      "4\n",
      "9\n",
      "16\n",
      "25\n",
      "36\n",
      "49\n",
      "64\n",
      "81\n"
     ]
    }
   ],
   "source": [
    "# Metoda ze słowem kluczowym yield. Metoda jest uruchamiana tylko wtedy, gdy potrzeba wykonać operację na konkretnym indeksie listy\n",
    "\n",
    "def square_numbers(nums):\n",
    "    for i in nums:\n",
    "        yield i * i\n",
    "\n",
    "# W efekcie dostaniemy obekt generatora zamiast listy liczb.\n",
    "numbers = square_numbers([1,2,3,4,5,6,7,8,9])\n",
    "print(numbers)  # <generator object square_numbers at 0x07BC4B88>\n",
    "# Dzieje się tak, ponieważ do póki ne zaczniemy iterowac po zmiennej numbers, metoda square_numbers została wstrzymana.\n",
    "\n",
    "for i in numbers:\n",
    "    print(i)"
   ],
   "metadata": {
    "collapsed": false,
    "pycharm": {
     "name": "#%%\n"
    }
   }
  },
  {
   "cell_type": "code",
   "execution_count": 3,
   "outputs": [
    {
     "name": "stdout",
     "output_type": "stream",
     "text": [
      "<generator object <genexpr> at 0x0000028BE8EB5048>\n",
      "1\n",
      "4\n",
      "9\n",
      "16\n",
      "25\n",
      "36\n",
      "49\n",
      "64\n",
      "81\n"
     ]
    }
   ],
   "source": [
    "# Krótszy zapis generatora bez deklaracji metody:\n",
    "\n",
    "numbers = (x * x for x in [1,2,3,4,5,6,7,8,9])\n",
    "\n",
    "print(numbers) # <generator object square_numbers at 0x07BC4B88>\n",
    "\n",
    "for i in numbers:\n",
    "    print(i)"
   ],
   "metadata": {
    "collapsed": false,
    "pycharm": {
     "name": "#%%\n"
    }
   }
  },
  {
   "cell_type": "markdown",
   "source": [
    "##### Srawdzanie wydajności zwykła lista vs generator"
   ],
   "metadata": {
    "collapsed": false,
    "pycharm": {
     "name": "#%% md\n"
    }
   }
  },
  {
   "cell_type": "code",
   "execution_count": 7,
   "outputs": [
    {
     "name": "stdout",
     "output_type": "stream",
     "text": [
      "58.0\n",
      "58.0\n"
     ]
    }
   ],
   "source": [
    "import os\n",
    "import random\n",
    "import time\n",
    "\n",
    "def people_list(num_people):\n",
    "    names = [\"Michał\", \"Jolanta\", \"Krzysiu\"]\n",
    "    lastnames = [\"Kowalski\", \"Nowak\", \"Paleta\"]\n",
    "    result = []\n",
    "    for i in range(num_people):\n",
    "        person = {\n",
    "            'id': i,\n",
    "            'name': random.choice(names),\n",
    "            'lastname': random.choice(lastnames)\n",
    "        }\n",
    "        result.append(person)\n",
    "    return result\n",
    "\n",
    "\n",
    "def people_generator(num_people):\n",
    "    names = [\"Michał\", \"Jolanta\", \"Krzysiu\"]\n",
    "    lastnames = [\"Kowalski\", \"Nowak\", \"Paleta\"]\n",
    "    for i in range(num_people):\n",
    "        person = {\n",
    "            'id': i,\n",
    "            'name': random.choice(names),\n",
    "            'major': random.choice(lastnames)\n",
    "        }\n",
    "        yield person\n",
    "\n",
    "\n",
    "def memory_usage_psutil():\n",
    "    # return the memory usage in MB\n",
    "    import psutil\n",
    "    process = psutil.Process(os.getpid())\n",
    "    mem = process.memory_info()[0] / float(2 ** 20)\n",
    "    return mem\n",
    "\n",
    "print(memory_usage_psutil())\n",
    "\n",
    "# t1 = time.perf_counter()\n",
    "# people = people_list(1000000)\n",
    "# t2 = time.perf_counter()\n",
    "\n",
    "t1 = time.perf_counter()\n",
    "people = people_generator(1000000)\n",
    "t2 = time.perf_counter()\n",
    "\n",
    "print(memory_usage_psutil())\n"
   ],
   "metadata": {
    "collapsed": false,
    "pycharm": {
     "name": "#%%\n"
    }
   }
  }
 ],
 "metadata": {
  "kernelspec": {
   "display_name": "Python 3",
   "language": "python",
   "name": "python3"
  },
  "language_info": {
   "codemirror_mode": {
    "name": "ipython",
    "version": 2
   },
   "file_extension": ".py",
   "mimetype": "text/x-python",
   "name": "python",
   "nbconvert_exporter": "python",
   "pygments_lexer": "ipython2",
   "version": "2.7.6"
  }
 },
 "nbformat": 4,
 "nbformat_minor": 0
}