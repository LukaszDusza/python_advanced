{
 "cells": [
  {
   "cell_type": "markdown",
   "source": [
    "#### Zadanie 1\n",
    "Z podanego tekstu w formacie json wyciągnij wiek Johna. <br>\n",
    "`{ \"name\":\"John\", \"age\":30, \"city\":\"New York\"}` <br>\n",
    "Wynik wyświetl na ekranie."
   ],
   "metadata": {
    "collapsed": false,
    "pycharm": {
     "name": "#%% md\n"
    }
   }
  },
  {
   "cell_type": "code",
   "execution_count": 12,
   "metadata": {
    "collapsed": true
   },
   "outputs": [
    {
     "name": "stdout",
     "output_type": "stream",
     "text": [
      "30\n"
     ]
    }
   ],
   "source": [
    "import json\n",
    "\n",
    "# some JSON:\n",
    "x =  '{ \"name\":\"John\", \"age\":30, \"city\":\"New York\"}'\n",
    "\n",
    "# parse x:\n",
    "resource = json.loads(x)\n",
    "\n",
    "# the result is a Python dictionary:\n",
    "print(resource[\"age\"])"
   ]
  },
  {
   "cell_type": "markdown",
   "source": [
    "#### Zadanie 2\n",
    "Zapisz obiekt python `dict` do tekstu `String` i wyświetl na ekranie. <br>\n",
    "`x = {\n",
    "  \"name\": \"John\",\n",
    "  \"age\": 30,\n",
    "  \"city\": \"New York\"\n",
    "}` <br>\n",
    "Wynik wyświetl na ekranie."
   ],
   "metadata": {
    "collapsed": false,
    "pycharm": {
     "name": "#%% md\n"
    }
   }
  },
  {
   "cell_type": "code",
   "execution_count": 13,
   "outputs": [
    {
     "name": "stdout",
     "output_type": "stream",
     "text": [
      "{\"name\": \"John\", \"age\": 30, \"city\": \"New York\"}\n"
     ]
    }
   ],
   "source": [
    "import json\n",
    "\n",
    "# a Python object (dict):\n",
    "x = {\n",
    "  \"name\": \"John\",\n",
    "  \"age\": 30,\n",
    "  \"city\": \"New York\"\n",
    "}\n",
    "\n",
    "# convert into JSON:\n",
    "resource = json.dumps(x)\n",
    "\n",
    "# the result is a JSON string:\n",
    "print(resource)"
   ],
   "metadata": {
    "collapsed": false,
    "pycharm": {
     "name": "#%%\n"
    }
   }
  },
  {
   "cell_type": "code",
   "execution_count": 14,
   "outputs": [
    {
     "name": "stdout",
     "output_type": "stream",
     "text": [
      "{\"name\": \"John\", \"age\": 30}\n",
      "[\"apple\", \"bananas\"]\n",
      "[\"apple\", \"bananas\"]\n",
      "\"hello\"\n",
      "42\n",
      "31.76\n",
      "true\n",
      "false\n",
      "null\n"
     ]
    }
   ],
   "source": [
    "import json\n",
    "\n",
    "print(json.dumps({\"name\": \"John\", \"age\": 30}))\n",
    "print(json.dumps([\"apple\", \"bananas\"]))\n",
    "print(json.dumps((\"apple\", \"bananas\")))\n",
    "print(json.dumps(\"hello\"))\n",
    "print(json.dumps(42))\n",
    "print(json.dumps(31.76))\n",
    "print(json.dumps(True))\n",
    "print(json.dumps(False))\n",
    "print(json.dumps(None))\n"
   ],
   "metadata": {
    "collapsed": false,
    "pycharm": {
     "name": "#%%\n"
    }
   }
  },
  {
   "cell_type": "markdown",
   "source": [
    "*Podczas konwersji z Pythona na JSON, obiekty Pythona są konwertowane na odpowiednik JSON (JavaScript):* <br>\n",
    "\n",
    "| Python | JSON |\n",
    "| :- | -: |\n",
    "| dict | Object\n",
    "| list | Array\n",
    "| tuple |Array\n",
    "|str|  String\n",
    "|int| Number\n",
    "|float|\tNumber\n",
    "|True|true\n",
    "|False|\tfalse\n",
    "|None|null"
   ],
   "metadata": {
    "collapsed": false
   }
  },
  {
   "cell_type": "markdown",
   "source": [
    "#### Zadanie 3\n",
    "Zapisz obiekt python `dict` do tekstu `String` i wyświetl na ekranie w formie przyjaznej\n",
    " dla analizy używając parametru __`indent`__.<br>\n",
    "`x = {\n",
    "  \"name\": \"John\",\n",
    "  \"age\": 30,\n",
    "  \"married\": True,\n",
    "  \"divorced\": False,\n",
    "  \"children\": (\"Ann\",\"Billy\"),\n",
    "  \"pets\": None,\n",
    "  \"cars\": [\n",
    "    {\"model\": \"BMW 230\", \"mpg\": 27.5},\n",
    "    {\"model\": \"Ford Edge\", \"mpg\": 24.1}\n",
    "  ]\n",
    "}` <br>\n",
    "Wynik wyświetl na ekranie."
   ],
   "metadata": {
    "collapsed": false,
    "pycharm": {
     "name": "#%% md\n"
    }
   }
  },
  {
   "cell_type": "code",
   "execution_count": 15,
   "outputs": [
    {
     "name": "stdout",
     "output_type": "stream",
     "text": [
      "{\n",
      "  \"name\": \"John\",\n",
      "  \"age\": 30,\n",
      "  \"married\": true,\n",
      "  \"divorced\": false,\n",
      "  \"children\": [\n",
      "    \"Ann\",\n",
      "    \"Billy\"\n",
      "  ],\n",
      "  \"pets\": null,\n",
      "  \"cars\": [\n",
      "    {\n",
      "      \"model\": \"BMW 230\",\n",
      "      \"mpg\": 27.5\n",
      "    },\n",
      "    {\n",
      "      \"model\": \"Ford Edge\",\n",
      "      \"mpg\": 24.1\n",
      "    }\n",
      "  ]\n",
      "}\n"
     ]
    }
   ],
   "source": [
    "import json\n",
    "\n",
    "x = {\n",
    "  \"name\": \"John\",\n",
    "  \"age\": 30,\n",
    "  \"married\": True,\n",
    "  \"divorced\": False,\n",
    "  \"children\": (\"Ann\",\"Billy\"),\n",
    "  \"pets\": None,\n",
    "  \"cars\": [\n",
    "    {\"model\": \"BMW 230\", \"mpg\": 27.5},\n",
    "    {\"model\": \"Ford Edge\", \"mpg\": 24.1}\n",
    "  ]\n",
    "}\n",
    "\n",
    "# use four indents to make it easier to read the result:\n",
    "print(json.dumps(x, indent=2))"
   ],
   "metadata": {
    "collapsed": false,
    "pycharm": {
     "name": "#%%\n"
    }
   }
  },
  {
   "cell_type": "markdown",
   "source": [
    "#### Zadanie 4\n",
    "Zapisz obiekt python `dict` do tekstu `String` i wyświetl na ekranie w formie przyjaznej\n",
    " dla analizy używając parametru __`indent`__ oraz po sortuj wynik po nazwie kluczy używając parametru __`sort_keys`__.\n",
    "`x = {\n",
    "  \"name\": \"John\",\n",
    "  \"age\": 30,\n",
    "  \"married\": True,\n",
    "  \"divorced\": False,\n",
    "  \"children\": (\"Ann\",\"Billy\"),\n",
    "  \"pets\": None,\n",
    "  \"cars\": [\n",
    "    {\"model\": \"BMW 230\", \"mpg\": 27.5},\n",
    "    {\"model\": \"Ford Edge\", \"mpg\": 24.1}\n",
    "  ]\n",
    "}` <br>\n",
    "Wynik wyświetl na ekranie."
   ],
   "metadata": {
    "collapsed": false,
    "pycharm": {
     "name": "#%% md\n"
    }
   }
  },
  {
   "cell_type": "code",
   "execution_count": 16,
   "outputs": [
    {
     "name": "stdout",
     "output_type": "stream",
     "text": [
      "{\n",
      "    \"age\": 30,\n",
      "    \"cars\": [\n",
      "        {\n",
      "            \"model\": \"BMW 230\",\n",
      "            \"mpg\": 27.5\n",
      "        },\n",
      "        {\n",
      "            \"model\": \"Ford Edge\",\n",
      "            \"mpg\": 24.1\n",
      "        }\n",
      "    ],\n",
      "    \"children\": [\n",
      "        \"Ann\",\n",
      "        \"Billy\"\n",
      "    ],\n",
      "    \"divorced\": false,\n",
      "    \"married\": true,\n",
      "    \"name\": \"John\",\n",
      "    \"pets\": null\n",
      "}\n"
     ]
    }
   ],
   "source": [
    "import json\n",
    "\n",
    "x = {\n",
    "  \"name\": \"John\",\n",
    "  \"age\": 30,\n",
    "  \"married\": True,\n",
    "  \"divorced\": False,\n",
    "  \"children\": (\"Ann\",\"Billy\"),\n",
    "  \"pets\": None,\n",
    "  \"cars\": [\n",
    "    {\"model\": \"BMW 230\", \"mpg\": 27.5},\n",
    "    {\"model\": \"Ford Edge\", \"mpg\": 24.1}\n",
    "  ]\n",
    "}\n",
    "\n",
    "# sort the result alphabetically by keys:\n",
    "print(json.dumps(x, indent=4, sort_keys=True))"
   ],
   "metadata": {
    "collapsed": false,
    "pycharm": {
     "name": "#%%\n"
    }
   }
  },
  {
   "cell_type": "markdown",
   "source": [
    "#### Zadanie 5\n",
    "\n",
    "Zaimportuj moduł `requests` i pobierz wszystkie nagłówki odpowiedzi z tego url : `https://xkcd.com/1906/`. Wyświetl również kod odpowiedzi serwera."
   ],
   "metadata": {
    "collapsed": false,
    "pycharm": {
     "name": "#%% md\n"
    }
   }
  },
  {
   "cell_type": "code",
   "execution_count": 17,
   "outputs": [
    {
     "data": {
      "text/plain": "'text/html; charset=UTF-8'"
     },
     "execution_count": 17,
     "metadata": {},
     "output_type": "execute_result"
    }
   ],
   "source": [
    "# !pip install requests\n",
    "# !python.exe -m pip install --upgrade pip\n",
    "import requests\n",
    "\n",
    "r =requests.get('https://xkcd.com/1906/')\n",
    "r.status_code\n",
    "r.headers\n",
    "r.headers['Content-Type']\n",
    "# r.text"
   ],
   "metadata": {
    "collapsed": false,
    "pycharm": {
     "name": "#%%\n"
    }
   }
  },
  {
   "cell_type": "markdown",
   "source": [
    "#### Zadanie 6\n",
    "\n",
    "Zaimportuj moduł `requests` i pobierz zdjęcie z  url : `https://imgs.xkcd.com/comics/making_progress.png`. Zapisz zdjęcie na dysku w dowolnym folderze."
   ],
   "metadata": {
    "collapsed": false,
    "pycharm": {
     "name": "#%% md\n"
    }
   }
  },
  {
   "cell_type": "code",
   "execution_count": 18,
   "outputs": [],
   "source": [
    "import requests\n",
    "receive = requests.get('https://imgs.xkcd.com/comics/making_progress.png')\n",
    "\n",
    "with open(r'image.png','wb') as f:\n",
    "    f.write(receive.content)"
   ],
   "metadata": {
    "collapsed": false,
    "pycharm": {
     "name": "#%%\n"
    }
   }
  },
  {
   "cell_type": "markdown",
   "source": [
    "#### Zadanie 7\n",
    "\n",
    "Zaimportuj moduł `requests` i wykonaj żądanie (`request`) na : `https://httpbin.org/get` dodając parametry `GET`: <br>\n",
    "`things=2` oraz `total=25` <br>\n",
    "Odpowiedź serwera wyświetl na ekranie. WYkorzystaj parametr `params` w zapytaniu `GET`."
   ],
   "metadata": {
    "collapsed": false,
    "pycharm": {
     "name": "#%% md\n"
    }
   }
  },
  {
   "cell_type": "code",
   "execution_count": 19,
   "outputs": [
    {
     "name": "stdout",
     "output_type": "stream",
     "text": [
      "{\n",
      "  \"args\": {\n",
      "    \"things\": \"2\", \n",
      "    \"total\": \"25\"\n",
      "  }, \n",
      "  \"headers\": {\n",
      "    \"Accept\": \"*/*\", \n",
      "    \"Accept-Encoding\": \"gzip, deflate\", \n",
      "    \"Host\": \"httpbin.org\", \n",
      "    \"User-Agent\": \"python-requests/2.24.0\", \n",
      "    \"X-Amzn-Trace-Id\": \"Root=1-5f4e3495-48b76c54872d3cb1198bcda2\"\n",
      "  }, \n",
      "  \"origin\": \"37.47.103.112\", \n",
      "  \"url\": \"https://httpbin.org/get?things=2&total=25\"\n",
      "}\n",
      "\n",
      "https://httpbin.org/get?things=2&total=25\n"
     ]
    }
   ],
   "source": [
    "import requests\n",
    "ploads = {'things':2,'total':25}\n",
    "r = requests.get('https://httpbin.org/get',params=ploads)\n",
    "print(r.text)\n",
    "print(r.url)"
   ],
   "metadata": {
    "collapsed": false,
    "pycharm": {
     "name": "#%%\n"
    }
   }
  },
  {
   "cell_type": "markdown",
   "source": [
    "#### Zadanie 8\n",
    "\n",
    "Zaimportuj moduł `requests` i wykonaj żądanie (`request`) `POST` na : `https://httpbin.org/post` dodając payload do zapytania `POST`: <br>\n",
    "`username=Olivia` oraz `password=123` <br>\n",
    "Odpowiedź serwera wyświetl na ekranie. WYkorzystaj parametr `data` w zapytaniu `POST`."
   ],
   "metadata": {
    "collapsed": false,
    "pycharm": {
     "name": "#%% md\n"
    }
   }
  },
  {
   "cell_type": "code",
   "execution_count": 20,
   "outputs": [
    {
     "name": "stdout",
     "output_type": "stream",
     "text": [
      "{\n",
      "  \"args\": {}, \n",
      "  \"data\": \"\", \n",
      "  \"files\": {}, \n",
      "  \"form\": {\n",
      "    \"password\": \"123\", \n",
      "    \"username\": \"Olivia\"\n",
      "  }, \n",
      "  \"headers\": {\n",
      "    \"Accept\": \"*/*\", \n",
      "    \"Accept-Encoding\": \"gzip, deflate\", \n",
      "    \"Content-Length\": \"28\", \n",
      "    \"Content-Type\": \"application/x-www-form-urlencoded\", \n",
      "    \"Host\": \"httpbin.org\", \n",
      "    \"User-Agent\": \"python-requests/2.24.0\", \n",
      "    \"X-Amzn-Trace-Id\": \"Root=1-5f4e3496-de701c1fd25204d785bedca7\"\n",
      "  }, \n",
      "  \"json\": null, \n",
      "  \"origin\": \"37.47.103.112\", \n",
      "  \"url\": \"https://httpbin.org/post\"\n",
      "}\n",
      "\n"
     ]
    }
   ],
   "source": [
    "import requests\n",
    "pload = {'username':'Olivia','password':'123'}\n",
    "r = requests.post('https://httpbin.org/post',data = pload)\n",
    "print(r.text)"
   ],
   "metadata": {
    "collapsed": false,
    "pycharm": {
     "name": "#%%\n"
    }
   }
  },
  {
   "cell_type": "markdown",
   "source": [
    "#### Zadanie 9\n",
    "\n",
    "Zaimportuj moduł `requests` i wykonaj żądanie (`request`) `POST` na : `https://httpbin.org/post` dodając payload do zapytania `POST`: <br>\n",
    "`username=Olivia` oraz `password=123` <br>\n",
    "Odpowiedź serwera zamień na obiekt `dict` i wyświetl na ekran tylko klucz __`form`__ z obiektu"
   ],
   "metadata": {
    "collapsed": false,
    "pycharm": {
     "name": "#%% md\n"
    }
   }
  },
  {
   "cell_type": "code",
   "execution_count": 21,
   "outputs": [
    {
     "name": "stdout",
     "output_type": "stream",
     "text": [
      "{'password': '123', 'username': 'olivia'}\n"
     ]
    }
   ],
   "source": [
    "# konwersja json na dict\n",
    "\n",
    "import requests\n",
    "pload = {'username':'olivia','password':'123'}\n",
    "r = requests.post('https://httpbin.org/post',data = pload)\n",
    "\n",
    "#print(r.json())\n",
    "abc = r.json()\n",
    "print(abc['form'])\n",
    "\n"
   ],
   "metadata": {
    "collapsed": false,
    "pycharm": {
     "name": "#%%\n"
    }
   }
  }
 ],
 "metadata": {
  "kernelspec": {
   "name": "pycharm-e335a363",
   "language": "python",
   "display_name": "PyCharm (python_advanced)"
  },
  "language_info": {
   "codemirror_mode": {
    "name": "ipython",
    "version": 2
   },
   "file_extension": ".py",
   "mimetype": "text/x-python",
   "name": "python",
   "nbconvert_exporter": "python",
   "pygments_lexer": "ipython2",
   "version": "2.7.6"
  }
 },
 "nbformat": 4,
 "nbformat_minor": 0
}