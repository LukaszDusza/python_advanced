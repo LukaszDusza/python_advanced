{
 "cells": [
  {
   "cell_type": "markdown",
   "source": [
    "#### Zasięg zmiennej w metodzie i poza nią. Przykład 1 `Local Scope`"
   ],
   "metadata": {
    "collapsed": false,
    "pycharm": {
     "name": "#%% md\n"
    }
   }
  },
  {
   "cell_type": "code",
   "execution_count": 45,
   "metadata": {
    "collapsed": true
   },
   "outputs": [
    {
     "name": "stdout",
     "output_type": "stream",
     "text": [
      "The first number defined is:  1\n"
     ]
    }
   ],
   "source": [
    "def print_number():\n",
    "    first_num = 1\n",
    "    print(\"The first number defined is: \", first_num)\n",
    "\n",
    "print_number()\n",
    "# od kom print(\"The first number defined is: \", first_num) # tu first_num nie ma zasięgu"
   ]
  },
  {
   "cell_type": "markdown",
   "source": [
    "#### Zasięg zmiennej w metodzie i poza nią. Przyklad 2. `Enclosing Scope`"
   ],
   "metadata": {
    "collapsed": false
   }
  },
  {
   "cell_type": "code",
   "execution_count": 46,
   "outputs": [
    {
     "name": "stdout",
     "output_type": "stream",
     "text": [
      "first_num from outer:  1\n",
      "second_num from inner:  2\n"
     ]
    }
   ],
   "source": [
    "def outer():\n",
    "    first_num = 1\n",
    "    def inner():\n",
    "        second_num = 2\n",
    "        print(\"first_num from outer: \", first_num)\n",
    "        print(\"second_num from inner: \", second_num)\n",
    "    inner()\n",
    " # od kom   print(\"second_num from inner: \", second_num) # tu second_num nie ma zasięgu\n",
    "\n",
    "outer()"
   ],
   "metadata": {
    "collapsed": false,
    "pycharm": {
     "name": "#%%\n"
    }
   }
  },
  {
   "cell_type": "markdown",
   "source": [
    "#### Zasięg zmiennej w metodzie i poza nią. Przyklad 3. `Global Scope`"
   ],
   "metadata": {
    "collapsed": false
   }
  },
  {
   "cell_type": "code",
   "execution_count": 47,
   "outputs": [
    {
     "name": "stdout",
     "output_type": "stream",
     "text": [
      "Hello World\n",
      "Hello Samuel\n"
     ]
    }
   ],
   "source": [
    "greeting = \"Hello\"\n",
    "\n",
    "def greeting_world():\n",
    "    world = \"World\"\n",
    "    print(greeting, world)\n",
    "\n",
    "def greeting_name(name):\n",
    "    print(greeting, name)\n",
    "\n",
    "greeting_world()\n",
    "greeting_name(\"Samuel\")"
   ],
   "metadata": {
    "collapsed": false,
    "pycharm": {
     "name": "#%%\n"
    }
   }
  },
  {
   "cell_type": "markdown",
   "source": [
    "#### kolejność zasięgów `(scope)`\n",
    "Zasada LEGB: `Local -> Enclosing -> Global -> Built-in`"
   ],
   "metadata": {
    "collapsed": false
   }
  },
  {
   "cell_type": "markdown",
   "source": [
    "#### Słowa kluczowe.`Built-in Scope`"
   ],
   "metadata": {
    "collapsed": false
   }
  },
  {
   "cell_type": "code",
   "execution_count": 48,
   "outputs": [],
   "source": [
    "# False\n",
    "# None\n",
    "# True\n",
    "# and\n",
    "# as\n",
    "# assert\n",
    "# braek\n",
    "# class\n",
    "# continue\n",
    "# def\n",
    "# del\n",
    "# elif\n",
    "# else\n",
    "# except\n",
    "# finally\n",
    "# for\n",
    "# from\n",
    "# global\n",
    "# if\n",
    "# import\n",
    "# in\n",
    "# is\n",
    "# lambda\n",
    "# nonlocal\n",
    "# not\n",
    "# or\n",
    "# pass\n",
    "# raise\n",
    "# return\n",
    "# try\n",
    "# while\n",
    "# with\n",
    "# yield"
   ],
   "metadata": {
    "collapsed": false,
    "pycharm": {
     "name": "#%%\n"
    }
   }
  },
  {
   "cell_type": "markdown",
   "source": [
    "#### Zasięg zmiennej przy kluczu `global` Przyklad 4.\n",
    "*Dzięki `global`, mówisz Pythonowi, aby używał globalnie zdefiniowanej zmiennej, zamiast tworzyć ją lokalnie. Aby użyć słowa kluczowego, wystarczy wpisać „global”, a po nim nazwę zmiennej.*"
   ],
   "metadata": {
    "collapsed": false
   }
  },
  {
   "cell_type": "code",
   "execution_count": 49,
   "outputs": [
    {
     "name": "stdout",
     "output_type": "stream",
     "text": [
      "Hi World\n"
     ]
    }
   ],
   "source": [
    "greeting = \"Hello\"\n",
    "\n",
    "def change_greeting(new_greeting):\n",
    "    global greeting\n",
    "    # bez tej linijki powyżej, poniższe greeting to będzie nowa zmienna zamist zdefuniowana na samej górze.\n",
    "    # jeśli chemy w metodzie wpływać na wartości zmiennych globalnych, należy dodać słowo kluczowe `global`\n",
    "    greeting = new_greeting\n",
    "\n",
    "def greeting_world():\n",
    "    world = \"World\"\n",
    "    print(greeting, world)\n",
    "\n",
    "change_greeting(\"Hi\")\n",
    "greeting_world()"
   ],
   "metadata": {
    "collapsed": false,
    "pycharm": {
     "name": "#%%\n"
    }
   }
  },
  {
   "cell_type": "markdown",
   "source": [
    "#### Zasięg zmiennej przy kluczu `nonlocal` Przyklad 4.\n",
    "*Słowo kluczowe nonlocal jest przydatne w funkcjach zagnieżdżonych. Powoduje, że zmienna odwołuje się do poprzednio powiązanej zmiennej w najbliższym otaczającym zakresie. Innymi słowy, zapobiegnie to próbom wiązania się zmiennej w pierwszej kolejności i zmusi ją do przejścia o poziom „wyżej”. Składnia jest podobna do słowa kluczowego global.*"
   ],
   "metadata": {
    "collapsed": false
   }
  },
  {
   "cell_type": "code",
   "execution_count": 50,
   "outputs": [
    {
     "name": "stdout",
     "output_type": "stream",
     "text": [
      "inner - second_num is:  1\n",
      "outer - first_num is:  0\n"
     ]
    }
   ],
   "source": [
    "def outer():\n",
    "    first_num = 1\n",
    "    def inner():\n",
    "        nonlocal first_num\n",
    "        first_num = 0\n",
    "        second_num = 1\n",
    "        print(\"inner - second_num is: \", second_num)\n",
    "    inner()\n",
    "    print(\"outer - first_num is: \", first_num)\n",
    "\n",
    "outer()"
   ],
   "metadata": {
    "collapsed": false,
    "pycharm": {
     "name": "#%%\n"
    }
   }
  },
  {
   "cell_type": "markdown",
   "source": [
    "*Powinieneś używać __globalnych__ i __nielokalnych__ słów kluczowych. Będziesz mógł łatwo manipulować zmiennymi w zagnieżdżonych funkcjach, bez żadnego problemu.*"
   ],
   "metadata": {
    "collapsed": false
   }
  },
  {
   "cell_type": "markdown",
   "source": [
    "#### Funkcje w Pythonie"
   ],
   "metadata": {
    "collapsed": false
   }
  },
  {
   "cell_type": "markdown",
   "source": [
    "#### Przykładowa funkcja"
   ],
   "metadata": {
    "collapsed": false
   }
  },
  {
   "cell_type": "code",
   "execution_count": 51,
   "outputs": [],
   "source": [
    "def greet(name):\n",
    "\n",
    "    \"\"\" Funkcja zwraca napis ze zmienną podaną w parametrze metody \"\"\"\n",
    "\n",
    "    print(\"Hello, \" + name + \". Good morning!\")"
   ],
   "metadata": {
    "collapsed": false,
    "pycharm": {
     "name": "#%%\n"
    }
   }
  },
  {
   "cell_type": "markdown",
   "source": [
    "#### Funkcja zwracająca jakąś wartość"
   ],
   "metadata": {
    "collapsed": false
   }
  },
  {
   "cell_type": "code",
   "source": [
    "def absolute_value(num):\n",
    "    \"\"\"This function returns the absolute\n",
    "    value of the entered number\"\"\"\n",
    "\n",
    "    if num >= 0:\n",
    "        return num\n",
    "    else:\n",
    "        return -num\n",
    "\n",
    "print(absolute_value(2))\n",
    "\n",
    "print(absolute_value(-4))"
   ],
   "metadata": {
    "collapsed": false,
    "pycharm": {
     "name": "#%%\n"
    }
   },
   "execution_count": 52,
   "outputs": [
    {
     "name": "stdout",
     "output_type": "stream",
     "text": [
      "2\n",
      "4\n"
     ]
    }
   ]
  },
  {
   "cell_type": "markdown",
   "source": [
    "#### Funkcje typu __`Lambda`__.\n",
    "\n",
    " *`lambda arguments: expression`* <br>\n",
    " Funkcje lambda mogą mieć dowolną liczbę argumentów, ale tylko jedno wyrażenie.\n",
    " Wyrażenie jest zwracane.\n",
    " Funkcji lambda można używać wszędzie tam, gdzie wymagane są obiekty funkcji."
   ],
   "metadata": {
    "collapsed": false,
    "pycharm": {
     "name": "#%% md\n"
    }
   }
  },
  {
   "cell_type": "code",
   "execution_count": 53,
   "outputs": [
    {
     "name": "stdout",
     "output_type": "stream",
     "text": [
      "10\n"
     ]
    }
   ],
   "source": [
    "double = lambda x: x * 2\n",
    "print(double(5))"
   ],
   "metadata": {
    "collapsed": false,
    "pycharm": {
     "name": "#%%\n"
    }
   }
  },
  {
   "cell_type": "code",
   "execution_count": 54,
   "outputs": [
    {
     "name": "stdout",
     "output_type": "stream",
     "text": [
      "[4, 6, 8, 12]\n"
     ]
    }
   ],
   "source": [
    "# funkcja zwracająca tylko parzyste liczby\n",
    "\n",
    "my_list = [1, 5, 4, 6, 8, 11, 3, 12]\n",
    "new_list = list(filter(lambda x: (x%2 == 0) , my_list))\n",
    "print(new_list)"
   ],
   "metadata": {
    "collapsed": false,
    "pycharm": {
     "name": "#%%\n"
    }
   }
  },
  {
   "cell_type": "code",
   "execution_count": 55,
   "outputs": [
    {
     "name": "stdout",
     "output_type": "stream",
     "text": [
      "[2, 10, 8, 12, 16, 22, 6, 24]\n"
     ]
    }
   ],
   "source": [
    "# Program podwaja każdą pozycję na liście\n",
    "\n",
    "my_list = [1, 5, 4, 6, 8, 11, 3, 12]\n",
    "\n",
    "new_list = list(map(lambda x: x * 2 , my_list))\n",
    "\n",
    "print(new_list)"
   ],
   "metadata": {
    "collapsed": false,
    "pycharm": {
     "name": "#%%\n"
    }
   }
  },
  {
   "cell_type": "markdown",
   "source": [
    "#### Funkcje - cześć dalsza"
   ],
   "metadata": {
    "collapsed": false,
    "pycharm": {
     "name": "#%% md\n"
    }
   }
  },
  {
   "cell_type": "code",
   "execution_count": null,
   "outputs": [],
   "source": [
    "'''Funckja zostanie pominięta przez interpreter'''\n",
    "\n",
    "def hello():\n",
    "    pass"
   ],
   "metadata": {
    "collapsed": false,
    "pycharm": {
     "name": "#%%\n"
    }
   }
  },
  {
   "cell_type": "code",
   "execution_count": 9,
   "outputs": [
    {
     "name": "stdout",
     "output_type": "stream",
     "text": [
      "Zbyszek\n",
      "Zbyszek\n",
      "('Zbyszek', 'Ania', 'Marek')\n",
      "{'name': 'zbyszek', 'age': 23, 'email': 'zbycho123@gmail.com'}\n",
      "zbyszek\n",
      "zbycho123@gmail.com\n",
      "('Adam', 'Marek', 'Wojtek')\n",
      "{'name': 'Adam', 'age': 23, 'email': 'adas123@gmail.com'}\n",
      "Adam\n",
      "adas123@gmail.com\n"
     ]
    }
   ],
   "source": [
    "def some_info_1(name, other_name):\n",
    "    print(name)\n",
    "    print(other_name)\n",
    "\n",
    "'''  *args zwraca tuple z parametrami\n",
    "     *kwargs zwraca dict klucz : wartosc '''\n",
    "\n",
    "def some_info_2(*args, **kwargs):\n",
    "    print(args)\n",
    "    print(kwargs)\n",
    "    print(kwargs[\"name\"]) # możemy odowołać się do konkretnego klucza.\n",
    "    print(kwargs[\"email\"]) # możemy odowołać się do konkretnego klucza.\n",
    "\n",
    "''' Możemy wpisać parametry do metody licząc na to, że python odpowiednio przyporządkuje nam zmienne do args/kwargs'''\n",
    "\n",
    "some_info_1(\"Zbyszek\", other_name=\"Zbyszek\")\n",
    "some_info_2(\"Zbyszek\", \"Ania\", \"Marek\", name=\"zbyszek\", age = 23, email = \"zbycho123@gmail.com\")\n",
    "\n",
    "''' Można to zrobić lepiej, podając w metodzie informacje w postaci * '''\n",
    "\n",
    "imiona = (\"Adam\", \"Marek\", \"Wojtek\")\n",
    "student = {\"name\":\"Adam\", \"age\":23, \"email\":\"adas123@gmail.com\"}\n",
    "\n",
    "some_info_2(*imiona, **student)"
   ],
   "metadata": {
    "collapsed": false,
    "pycharm": {
     "name": "#%%\n"
    }
   }
  },
  {
   "cell_type": "markdown",
   "source": [
    "#### Jak działają `Comprehensions` kreatry list, słowników i zbiorów.\n",
    "Jest to alternatywa dla sosowania `map()` i `filter()` itp"
   ],
   "metadata": {
    "collapsed": false,
    "pycharm": {
     "name": "#%% md\n"
    }
   }
  },
  {
   "cell_type": "code",
   "execution_count": 15,
   "outputs": [
    {
     "name": "stdout",
     "output_type": "stream",
     "text": [
      "[1, 2, 3, 4, 5, 6, 7, 8, 9, 10, 11, 12, 13, 14, 15, 16, 17, 18, 19, 20]\n",
      "[1, 2, 3, 4, 5, 6, 7, 8, 9, 10, 11, 12, 13, 14, 15, 16, 17, 18, 19, 20]\n",
      "[1, 4, 9, 16, 25, 36, 49, 64, 81, 100, 121, 144, 169, 196, 225, 256, 289, 324, 361, 400]\n",
      "<map object at 0x0000026CF957BF48>\n",
      "1\n",
      "4\n",
      "9\n",
      "16\n",
      "25\n",
      "36\n",
      "49\n",
      "64\n",
      "81\n",
      "100\n",
      "121\n",
      "144\n",
      "169\n",
      "196\n",
      "225\n",
      "256\n",
      "289\n",
      "324\n",
      "361\n",
      "400\n"
     ]
    }
   ],
   "source": [
    "month_days = [1,2,3,4,5,6,7,8,9,10,11,12,13,14,15,16,17,18,19,20]\n",
    "\n",
    "''' Zwykły sposób zapełniania listy danymi '''\n",
    "\n",
    "def return_new_list_of_days(month_days):\n",
    "    new_list = []\n",
    "    for i in month_days:\n",
    "        new_list.append(i)\n",
    "    return new_list\n",
    "print(return_new_list_of_days(month_days))\n",
    "\n",
    "''' Tworzenie listy za pomocą kreatora `return_new_list_of_days()` '''\n",
    "\n",
    "new_list = [i for i in month_days]\n",
    "print(new_list)\n",
    "\n",
    "''' Wykonywanie logiki wewnątrz kreatora '''\n",
    "\n",
    "new_list = [i * i for i in month_days]\n",
    "print(new_list)\n",
    "\n",
    "''' Jak wyżej, ale za pomocą lambdy '''\n",
    "\n",
    "new_list = map(lambda i: i * i, month_days)\n",
    "print(new_list)\n",
    "\n",
    "for i in new_list:\n",
    "    print(i)"
   ],
   "metadata": {
    "collapsed": false,
    "pycharm": {
     "name": "#%%\n"
    }
   }
  },
  {
   "cell_type": "markdown",
   "source": [
    "##### Przykład - zwracamy parzyste dni miesiąca"
   ],
   "metadata": {
    "collapsed": false,
    "pycharm": {
     "name": "#%% md\n"
    }
   }
  },
  {
   "cell_type": "code",
   "execution_count": 16,
   "outputs": [
    {
     "name": "stdout",
     "output_type": "stream",
     "text": [
      "[2, 4, 6, 8, 10, 12, 14, 16, 18, 20]\n"
     ]
    }
   ],
   "source": [
    "new_list = [i for i in month_days if i % 2 == 0]\n",
    "print(new_list)"
   ],
   "metadata": {
    "collapsed": false,
    "pycharm": {
     "name": "#%%\n"
    }
   }
  },
  {
   "cell_type": "markdown",
   "source": [
    "##### To co wyżej, ale za pomocą `lambda`"
   ],
   "metadata": {
    "collapsed": false,
    "pycharm": {
     "name": "#%% md\n"
    }
   }
  },
  {
   "cell_type": "code",
   "execution_count": 17,
   "outputs": [
    {
     "name": "stdout",
     "output_type": "stream",
     "text": [
      "<filter object at 0x0000026CF9510088>\n"
     ]
    }
   ],
   "source": [
    "new_list = filter(lambda i: i % 2 == 0, month_days)\n",
    "print(new_list) # tu dostaniemy tylko adres pamięci"
   ],
   "metadata": {
    "collapsed": false,
    "pycharm": {
     "name": "#%%\n"
    }
   }
  },
  {
   "cell_type": "markdown",
   "source": [
    "#### Zadanie 1\n",
    "Stwórz metodę pobierającą dwa argumenty i dodającą podane argumenty do siebie."
   ],
   "metadata": {
    "collapsed": false,
    "pycharm": {
     "name": "#%% md\n"
    }
   }
  },
  {
   "cell_type": "code",
   "execution_count": 56,
   "outputs": [
    {
     "name": "stdout",
     "output_type": "stream",
     "text": [
      "10\n"
     ]
    }
   ],
   "source": [
    "suma = lambda x,y: x + y\n",
    "print(suma(5, 5))"
   ],
   "metadata": {
    "collapsed": false,
    "pycharm": {
     "name": "#%%\n"
    }
   }
  },
  {
   "cell_type": "markdown",
   "source": [
    "#### Zadanie 2\n",
    "Stwórz metodę któraq z podanej listy zwróci tylko liczby większe od 10.<br>\n",
    "Lista: `my_list = [1, 5, 4, 6, 8, 11, 3, 12, 345, 12, 23]`"
   ],
   "metadata": {
    "collapsed": false,
    "pycharm": {
     "name": "#%% md\n"
    }
   }
  },
  {
   "cell_type": "code",
   "execution_count": 57,
   "outputs": [
    {
     "name": "stdout",
     "output_type": "stream",
     "text": [
      "[11, 12, 345, 12, 23]\n"
     ]
    }
   ],
   "source": [
    "my_list = [1, 5, 4, 6, 8, 11, 3, 12, 345, 12, 23]\n",
    "new_list = list(filter(lambda x: x > 10 , my_list))\n",
    "print(new_list)"
   ],
   "metadata": {
    "collapsed": false,
    "pycharm": {
     "name": "#%%\n"
    }
   }
  },
  {
   "cell_type": "markdown",
   "source": [
    "#### Zadanie 3\n",
    "\n",
    "Napisz konwerter, który przekształci kilometry na mile. Jedna kilometr to `0.621371` mili."
   ],
   "metadata": {
    "collapsed": false,
    "pycharm": {
     "name": "#%% md\n"
    }
   }
  },
  {
   "cell_type": "code",
   "execution_count": 58,
   "outputs": [
    {
     "name": "stdout",
     "output_type": "stream",
     "text": [
      "130.00 kilometers is equal to 80.78 miles\n",
      "80.77823000000001\n"
     ]
    }
   ],
   "source": [
    "kilometers = 130\n",
    "# kilometers = float(input(\"Enter value in kilometers: \"))\n",
    "\n",
    "conv_fac = 0.621371\n",
    "\n",
    "# calculate miles\n",
    "miles = kilometers * conv_fac\n",
    "print('%0.2f kilometers is equal to %0.2f miles' %(kilometers,miles))\n",
    "\n",
    "miles_2 = lambda km: km * 0.621371\n",
    "print(miles_2(kilometers))"
   ],
   "metadata": {
    "collapsed": false,
    "pycharm": {
     "name": "#%%\n"
    }
   }
  },
  {
   "cell_type": "markdown",
   "source": [
    "#### Zadanie4\n",
    "Napisz program, który zamieni stopnie Celsjusza na Fahrenheita. Zastosuj formułę:<br>\n",
    "`(celsius * 1.8) + 32` <br> Wykorzystaj funkcję `lambda`."
   ],
   "metadata": {
    "collapsed": false,
    "pycharm": {
     "name": "#%% md\n"
    }
   }
  },
  {
   "cell_type": "code",
   "execution_count": 59,
   "outputs": [
    {
     "name": "stdout",
     "output_type": "stream",
     "text": [
      "37.5 degree Celsius is equal to 99.5 degree Fahrenheit\n",
      "99.5\n"
     ]
    }
   ],
   "source": [
    "celsius = 37.5\n",
    "\n",
    "# calculate fahrenheit\n",
    "fahrenheit = (celsius * 1.8) + 32\n",
    "print('%0.1f degree Celsius is equal to %0.1f degree Fahrenheit' %(celsius,fahrenheit))\n",
    "\n",
    "res = lambda x: (x * 1.8) + 32\n",
    "print(res(37.5))"
   ],
   "metadata": {
    "collapsed": false,
    "pycharm": {
     "name": "#%%\n"
    }
   }
  },
  {
   "cell_type": "markdown",
   "source": [
    "#### Zadanie 5\n",
    "Wyświetl kalendarz. Zaimportuj moduł `Calendar`. Użytkownik na wejściu musi podać rok i miesiąc.\n"
   ],
   "metadata": {
    "collapsed": false,
    "pycharm": {
     "name": "#%% md\n"
    }
   }
  },
  {
   "cell_type": "code",
   "execution_count": 60,
   "outputs": [
    {
     "name": "stdout",
     "output_type": "stream",
     "text": [
      "   November 2014\n",
      "Mo Tu We Th Fr Sa Su\n",
      "                1  2\n",
      " 3  4  5  6  7  8  9\n",
      "10 11 12 13 14 15 16\n",
      "17 18 19 20 21 22 23\n",
      "24 25 26 27 28 29 30\n",
      "\n"
     ]
    }
   ],
   "source": [
    "import calendar\n",
    "yy = 2014  # year\n",
    "mm = 11    # month\n",
    "\n",
    "# To take month and year input from the user\n",
    "# yy = int(input(\"Enter year: \"))\n",
    "# mm = int(input(\"Enter month: \"))\n",
    "\n",
    "# display the calendar\n",
    "print(calendar.month(yy, mm))"
   ],
   "metadata": {
    "collapsed": false,
    "pycharm": {
     "name": "#%%\n"
    }
   }
  },
  {
   "cell_type": "markdown",
   "source": [
    "#### Zadanie 6\n",
    "\n",
    "Posortuj listę weług długości tekstu. Użyj wyrażenia `lambda` z parametrem `key`.<br>\n",
    "\n",
    "`t = [\"Ala\", \"ma\", \"kota\", \"i\", \"pieska\"]`"
   ],
   "metadata": {
    "collapsed": false,
    "pycharm": {
     "name": "#%% md\n"
    }
   }
  },
  {
   "cell_type": "code",
   "execution_count": 1,
   "outputs": [
    {
     "name": "stdout",
     "output_type": "stream",
     "text": [
      "['i', 'ma', 'Ala', 'kota', 'pieska']\n"
     ]
    }
   ],
   "source": [
    "t = [\"Ala\", \"ma\", \"kota\", \"i\", \"pieska\"]\n",
    "\n",
    "def sort_by_length(t):\n",
    "    result = sorted(t, key = lambda x: len(x))\n",
    "    return result\n",
    "\n",
    "print(sort_by_length(t))"
   ],
   "metadata": {
    "collapsed": false,
    "pycharm": {
     "name": "#%%\n"
    }
   }
  },
  {
   "cell_type": "markdown",
   "source": [
    "#### Zadanie 7\n",
    "Z podanych poniżej list stwórz obiekt `dict` jako połączenie imion z bohaterem.<br>\n",
    "\n",
    "`names = ['Bruce', 'Clark', 'Peter', 'Logan', 'Wade']` <br>\n",
    "`heros = ['Batman', 'Superman', 'Spiderman', 'Wolverine', 'Deadpool']` <br>\n",
    "\n",
    "Musisz otrzymać taki wynik: <br>\n",
    "\n",
    "`{'Bruce': 'Batman', 'Clark': 'Superman', 'Peter': 'Spiderman', 'Logan': 'Wolverine', 'Wade': 'Deadpool'}`"
   ],
   "metadata": {
    "collapsed": false,
    "pycharm": {
     "name": "#%% md\n"
    }
   }
  },
  {
   "cell_type": "code",
   "execution_count": 19,
   "outputs": [
    {
     "name": "stdout",
     "output_type": "stream",
     "text": [
      "{'Bruce': 'Batman', 'Clark': 'Superman', 'Peter': 'Spiderman', 'Logan': 'Wolverine', 'Wade': 'Deadpool'}\n"
     ]
    }
   ],
   "source": [
    "names = ['Bruce', 'Clark', 'Peter', 'Logan', 'Wade']\n",
    "heros = ['Batman', 'Superman', 'Spiderman', 'Wolverine', 'Deadpool']\n",
    "# print zip(names, heros)\n",
    "\n",
    "my_dict = {}\n",
    "for name, hero in zip(names, heros):\n",
    "    my_dict[name] = hero\n",
    "print(my_dict)"
   ],
   "metadata": {
    "collapsed": false,
    "pycharm": {
     "name": "#%%\n"
    }
   }
  },
  {
   "cell_type": "code",
   "source": [
    "# Lista funkcji Python typu Build-In:\n",
    "#\n",
    "# Python abs()\n",
    "# returns absolute value of a number\n",
    "#\n",
    "# Python all()\n",
    "# returns true when all elements in iterable is true\n",
    "#\n",
    "# Python any()\n",
    "# Checks if any Element of an Iterable is True\n",
    "#\n",
    "# Python ascii()\n",
    "# Returns String Containing Printable Representation\n",
    "#\n",
    "# Python bin()\n",
    "# converts integer to binary string\n",
    "#\n",
    "# Python bool()\n",
    "# Converts a Value to Boolean\n",
    "#\n",
    "# Python bytearray()\n",
    "# returns array of given byte size\n",
    "#\n",
    "# Python bytes()\n",
    "# returns immutable bytes object\n",
    "#\n",
    "# Python callable()\n",
    "# Checks if the Object is Callable\n",
    "#\n",
    "# Python chr()\n",
    "# Returns a Character (a string) from an Integer\n",
    "#\n",
    "# Python classmethod()\n",
    "# returns class method for given function\n",
    "#\n",
    "# Python compile()\n",
    "# Returns a Python code object\n",
    "#\n",
    "# Python complex()\n",
    "# Creates a Complex Number\n",
    "#\n",
    "# Python delattr()\n",
    "# Deletes Attribute From the Object\n",
    "#\n",
    "# Python dict()\n",
    "# Creates a Dictionary\n",
    "#\n",
    "# Python dir()\n",
    "# Tries to Return Attributes of Object\n",
    "#\n",
    "# Python divmod()\n",
    "# Returns a Tuple of Quotient and Remainder\n",
    "#\n",
    "# Python enumerate()\n",
    "# Returns an Enumerate Object\n",
    "#\n",
    "# Python eval()\n",
    "# Runs Python Code Within Program\n",
    "#\n",
    "# Python exec()\n",
    "# Executes Dynamically Created Program\n",
    "#\n",
    "# Python filter()\n",
    "# constructs iterator from elements which are true\n",
    "#\n",
    "# Python float()\n",
    "# returns floating point number from number, string\n",
    "#\n",
    "# Python format()\n",
    "# returns formatted representation of a value\n",
    "#\n",
    "# Python frozenset()\n",
    "# returns immutable frozenset object\n",
    "#\n",
    "# Python getattr()\n",
    "# returns value of named attribute of an object\n",
    "#\n",
    "# Python globals()\n",
    "# returns dictionary of current global symbol table\n",
    "#\n",
    "# Python hasattr()\n",
    "# returns whether object has named attribute\n",
    "#\n",
    "# Python hash()\n",
    "# returns hash value of an object\n",
    "#\n",
    "# Python help()\n",
    "# Invokes the built-in Help System\n",
    "#\n",
    "# Python hex()\n",
    "# Converts to Integer to Hexadecimal\n",
    "#\n",
    "# Python id()\n",
    "# Returns Identify of an Object\n",
    "#\n",
    "# Python input()\n",
    "# reads and returns a line of string\n",
    "#\n",
    "# Python int()\n",
    "# returns integer from a number or string\n",
    "#\n",
    "# Python isinstance()\n",
    "# Checks if a Object is an Instance of Class\n",
    "#\n",
    "# Python issubclass()\n",
    "# Checks if a Class is Subclass of another Class\n",
    "#\n",
    "# Python iter()\n",
    "# returns an iterator\n",
    "#\n",
    "# Python len()\n",
    "# Returns Length of an Object\n",
    "#\n",
    "# Python list()\n",
    "# creates a list in Python\n",
    "#\n",
    "# Python locals()\n",
    "# Returns dictionary of a current local symbol table\n",
    "#\n",
    "# Python map()\n",
    "# Applies Function and Returns a List\n",
    "#\n",
    "# Python max()\n",
    "# returns the largest item\n",
    "#\n",
    "# Python memoryview()\n",
    "# returns memory view of an argument\n",
    "#\n",
    "# Python min()\n",
    "# returns the smallest value\n",
    "#\n",
    "# Python next()\n",
    "# Retrieves next item from the iterator\n",
    "#\n",
    "# Python object()\n",
    "# creates a featureless object\n",
    "#\n",
    "# Python oct()\n",
    "# returns the octal representation of an integer\n",
    "#\n",
    "# Python open()\n",
    "# Returns a file object\n",
    "#\n",
    "# Python ord()\n",
    "# returns an integer of the Unicode character\n",
    "#\n",
    "# Python pow()\n",
    "# returns the power of a number\n",
    "#\n",
    "# Python print()\n",
    "# Prints the Given Object\n",
    "#\n",
    "# Python property()\n",
    "# returns the property attribute\n",
    "#\n",
    "# Python range()\n",
    "# return sequence of integers between start and stop\n",
    "#\n",
    "# Python repr()\n",
    "# returns a printable representation of the object\n",
    "#\n",
    "# Python reversed()\n",
    "# returns the reversed iterator of a sequence\n",
    "#\n",
    "# Python round()\n",
    "# rounds a number to specified decimals\n",
    "#\n",
    "# Python set()\n",
    "# constructs and returns a set\n",
    "#\n",
    "# Python setattr()\n",
    "# sets the value of an attribute of an object\n",
    "#\n",
    "# Python slice()\n",
    "# returns a slice object\n",
    "#\n",
    "# Python sorted()\n",
    "# returns a sorted list from the given iterable\n",
    "#\n",
    "# Python staticmethod()\n",
    "# transforms a method into a static method\n",
    "#\n",
    "# Python str()\n",
    "# returns the string version of the object\n",
    "#\n",
    "# Python sum()\n",
    "# Adds items of an Iterable\n",
    "#\n",
    "# Python super()\n",
    "# Returns a proxy object of the base class\n",
    "#\n",
    "# Python tuple()\n",
    "# Returns a tuple\n",
    "#\n",
    "# Python type()\n",
    "# Returns the type of the object\n",
    "#\n",
    "# Python vars()\n",
    "# Returns the __dict__ attribute\n",
    "#\n",
    "# Python zip()\n",
    "# Returns an iterator of tuples\n",
    "#\n",
    "# Python __import__()\n",
    "# Function called by the import statement\n"
   ],
   "metadata": {
    "collapsed": false,
    "pycharm": {
     "name": "#%%\n"
    }
   },
   "execution_count": 61,
   "outputs": []
  }
 ],
 "metadata": {
  "kernelspec": {
   "name": "python3",
   "language": "python",
   "display_name": "Python 3"
  },
  "language_info": {
   "codemirror_mode": {
    "name": "ipython",
    "version": 2
   },
   "file_extension": ".py",
   "mimetype": "text/x-python",
   "name": "python",
   "nbconvert_exporter": "python",
   "pygments_lexer": "ipython2",
   "version": "2.7.6"
  }
 },
 "nbformat": 4,
 "nbformat_minor": 0
}