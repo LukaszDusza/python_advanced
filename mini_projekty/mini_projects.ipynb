{
 "cells": [
  {
   "cell_type": "markdown",
   "source": [
    "#### Zadanie 1\n",
    "Na podstawie powyższych informacji stwórz aplikację typu __`\"image to text\"`__ `flask`, która  posiadać będzie interfej użytkownika z opcją dodawania plików.\n",
    "Po dodaniu pliku w formacie `.png` aplikacja wyrzuci na ekran lub konsolę odczytany tekst z pliku.\n",
    "\n",
    "Poniżej wstęp do aplikacji, czyli implementacja biblioteki `tesseract`. Twoim zadaniem będzie dorobionie reszty funkcjonalności.\n",
    "\n",
    "Polecenia dla instalacji zależności: <br>\n",
    "`!python -m pip install opencv-python` <br>\n",
    "`!python -m pip install pytesseract` <br>\n",
    "`!python -m pip install tesserocr-2.4.0-cp37-cp37m-win_amd64.whl` <br>\n",
    "\n",
    "*link do maszynki:* <br>\n",
    "__`https://github.com/UB-Mannheim/tesseract/wiki`__ <br>\n",
    "\n",
    "*link do github do całej biblioteki* <br>\n",
    "\n",
    "__`https://github.com/NanoNets/ocr-with-tesseract/blob/master/tesseract-tutorial.ipynb`__\n",
    "\n",
    "*Pobieramy plik __`tessreact.exe`__ i isntalujemy na komputerze, polecam podczas instalacji zaznaczyć ptaszki dla opcji, tak aby instalacja zajmowała ponad 800mb :)\n",
    "Jest to nauczony model ML (Machine Learning) do odczytywania tekstu z obrazków. <br>\n",
    "Projekt może stać się świetnym narzędziem do zbierania tekstów np. z kserówek na studiach itp. :)*"
   ],
   "metadata": {
    "collapsed": false,
    "pycharm": {
     "name": "#%% md\n"
    }
   }
  },
  {
   "cell_type": "code",
   "execution_count": 14,
   "outputs": [],
   "source": [
    "# !python -m pip install opencv-python\n",
    "# !python -m pip install pytesseract\n",
    "# !python -m pip install tesserocr\n"
   ],
   "metadata": {
    "collapsed": false,
    "pycharm": {
     "name": "#%%\n"
    }
   }
  },
  {
   "cell_type": "code",
   "execution_count": 15,
   "outputs": [],
   "source": [
    "# not implemented yet"
   ],
   "metadata": {
    "collapsed": false,
    "pycharm": {
     "name": "#%%\n"
    }
   }
  },
  {
   "cell_type": "markdown",
   "source": [
    "#### Zadanie 2\n",
    "Stwórz własną grę z min. jedną funkcjonalnością. Może to być ruch lewo/prawo/góra/dół albo przewijający się ekran.\n",
    "Wykorzystaj bibliotekę `pygame`.\n",
    "Dodaj przynajmniej jedną grafikę (jakaś chmurka, samolot itp.) <br>\n",
    "Dużo dowiesz się tutaj: `https://riptutorial.com/pl/pygame` <br>"
   ],
   "metadata": {
    "collapsed": false
   }
  },
  {
   "cell_type": "code",
   "execution_count": 16,
   "outputs": [],
   "source": [
    "# zainstaluj bibliotekę:\n",
    "# !python -m pip install pygame"
   ],
   "metadata": {
    "collapsed": false,
    "pycharm": {
     "name": "#%%\n"
    }
   }
  },
  {
   "cell_type": "code",
   "execution_count": 18,
   "outputs": [],
   "source": [
    "# to jest kod odpalający okienko gry.\n",
    "import pygame\n",
    "\n",
    "def start_screen():\n",
    "    background_colour = (255,255,255) # For the background color of your window\n",
    "    (width, height) = (300, 200) # Dimension of the window\n",
    "\n",
    "    screen = pygame.display.set_mode((width, height)) # Making of the screen\n",
    "    pygame.display.set_caption('Tutorial 1') # Name for the window\n",
    "    screen.fill(background_colour) #This syntax fills the background colour\n",
    "\n",
    "    pygame.display.flip()\n",
    "\n",
    "    running = True\n",
    "    while running:\n",
    "        for event in pygame.event.get():\n",
    "            if event.type == pygame.QUIT:\n",
    "                running = False\n",
    "                pygame.quit()\n",
    "\n",
    "# start_screen() # odkomentuj"
   ],
   "metadata": {
    "collapsed": false,
    "pycharm": {
     "name": "#%%\n"
    }
   }
  }
 ],
 "metadata": {
  "kernelspec": {
   "name": "pycharm-e335a363",
   "language": "python",
   "display_name": "PyCharm (python_advanced)"
  },
  "language_info": {
   "codemirror_mode": {
    "name": "ipython",
    "version": 2
   },
   "file_extension": ".py",
   "mimetype": "text/x-python",
   "name": "python",
   "nbconvert_exporter": "python",
   "pygments_lexer": "ipython2",
   "version": "2.7.6"
  }
 },
 "nbformat": 4,
 "nbformat_minor": 0
}