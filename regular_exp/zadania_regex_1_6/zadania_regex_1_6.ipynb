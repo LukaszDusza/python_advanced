{
 "cells": [
  {
   "cell_type": "markdown",
   "metadata": {
    "collapsed": true,
    "pycharm": {
     "name": "#%% md\n"
    }
   },
   "source": [
    "### Do wykonania zadań należy pobrać treść z pliku dołączonego do zadań.\n",
    "*poniżej kod startowy do zadań oraz potrzebne importy*\n",
    "\n",
    "`import re` <br>\n",
    "`path_to_file = r\"{twoja sciezka do plku}\\sample_text.txt\"` <br>\n",
    "`sample_text = open(path_to_file, 'r', encoding=\"utf-8\").read()` <br>\n",
    "`print(f\"{sample_text}\")`"
   ]
  },
  {
   "cell_type": "code",
   "execution_count": null,
   "outputs": [],
   "source": [
    "import re\n",
    "\n",
    "path_to_file = r\"{twoja sciezka do plku}\\sample_text.txt\"\n",
    "sample_text = open(path_to_file, 'r', encoding=\"utf-8\").read()\n",
    "print(f\"{sample_text}\")\n"
   ],
   "metadata": {
    "collapsed": false,
    "pycharm": {
     "name": "#%%\n"
    }
   }
  },
  {
   "cell_type": "markdown",
   "source": [
    " Zadanie 1 <br>\n",
    " *Wyszukaj w tekście słowa __który__ oraz ich odmian. Policz ilość wystąpień.*"
   ],
   "metadata": {
    "collapsed": false,
    "pycharm": {
     "name": "#%% md\n"
    }
   }
  },
  {
   "cell_type": "code",
   "execution_count": null,
   "outputs": [],
   "source": [
    "# rozwiązanie:\n",
    "\n",
    "pattern = re.compile(r'który\\w*')\n",
    "matches = pattern.finditer(sample_text)\n",
    "for i, match in enumerate(matches):\n",
    "    print(f\"{i + 1}: {match}\")"
   ],
   "metadata": {
    "collapsed": false,
    "pycharm": {
     "name": "#%%\n"
    }
   }
  },
  {
   "cell_type": "markdown",
   "source": [
    "Zadanie 2 <br>\n",
    " *Wyszukaj w tekście wszystkie litery __Aa__.* Policz ilość wystapień."
   ],
   "metadata": {
    "collapsed": false
   }
  },
  {
   "cell_type": "code",
   "execution_count": null,
   "outputs": [],
   "source": [
    "pattern = re.compile(r'[Aa]')\n",
    "matches = pattern.finditer(sample_text)\n",
    "a_counter = 0\n",
    "for i, match in enumerate(matches):\n",
    "    a_counter += 1\n",
    "\n",
    "print(f\"Litera 'A' oraz 'a' występuje w tekście: {a_counter} razy\")"
   ],
   "metadata": {
    "collapsed": false,
    "pycharm": {
     "name": "#%%\n"
    }
   }
  },
  {
   "cell_type": "markdown",
   "source": [],
   "metadata": {
    "collapsed": false
   }
  },
  {
   "cell_type": "markdown",
   "source": [
    "Zadanie 3 <br>\n",
    " *Test jest sformatowany jak w książce, a chcemy mieć każde zdanie od nowej linii, trzeba:* <br>\n",
    " *- wyczyścić tekst ze wszystkich znaków nowej linii i tabulatorów.* <br>\n",
    " *- nastęnie każde zdanie przenieść od nowej linii* <br>\n",
    " *- usuń znaki spacji na początku i na końcu zdania, jeśli wystąpią* <br>\n",
    " *- całą logikę umieść w __`def replace_all(text)`__ możesz umieścić dodatkowe argumenty w metodzie, jeśli chcesz.* <br>\n",
    " *Wynik transformacji tekstu wydrukuj na ekran.* <br>"
   ],
   "metadata": {
    "collapsed": false
   }
  },
  {
   "cell_type": "code",
   "execution_count": null,
   "outputs": [],
   "source": [
    "def replace_all(text):\n",
    "    dic = {\"\\n\":r\"\", \"\\t\":r\"\", \"\\r\": r\"\"}\n",
    "    for i, j in dic.items():\n",
    "        text = text.replace(i, j)\n",
    "    pattern = re.compile(r\"[^.!?]*[.!?]\")\n",
    "    matches = pattern.finditer(text)\n",
    "    output = \"\"\n",
    "    for match in(matches):\n",
    "        output += match.group().strip() + \"\\n\"\n",
    "    return output\n",
    "\n",
    "output = replace_all(sample_text)\n",
    "print(output)"
   ],
   "metadata": {
    "collapsed": false,
    "pycharm": {
     "name": "#%%\n"
    }
   }
  },
  {
   "cell_type": "markdown",
   "source": [
    "Zadanie 4 <br>\n",
    " *Zamień w tekście co drugą literę na dużą.*\n",
    " *`PoWiNiEn PoWsTaC TaKi TeKsT`* <br>\n",
    " *Wykorzystaj przekonwertowany tekst z zadania 3* <br> *Wydrukuj na ekran wynik zadania.*"
   ],
   "metadata": {
    "collapsed": false
   }
  },
  {
   "cell_type": "code",
   "execution_count": null,
   "outputs": [],
   "source": [
    "output = replace_all(sample_text)\n",
    "\n",
    "i = 0\n",
    "for letter in output:\n",
    "    if i % 2 == 0:\n",
    "        output = output[:i] + letter.upper() + output[i + 1:]\n",
    "    i += 1\n",
    "print(output)"
   ],
   "metadata": {
    "collapsed": false,
    "pycharm": {
     "name": "#%%\n"
    }
   }
  },
  {
   "cell_type": "markdown",
   "source": [
    "Zadanie 5 <br>\n",
    " *Stwórz maski dla liczb w tekście z maila otrzymanego od kolegi z pracy.<br>\n",
    "  Poniższe zdanie zawiera pin do karty.*\n",
    " *Przekształć zdanie tak, aby w miejscu pinu widniał napis: __`(pin)`__*.<br>\n",
    " *e-mail:* `Cześć Patryk, to jest pin do karty naszego klienta: 4589. Jeśli możesz, to zmień mu pin na taki: 0043 w bazie danych. Dzięki!`"
   ],
   "metadata": {
    "collapsed": false
   }
  },
  {
   "cell_type": "code",
   "execution_count": null,
   "outputs": [],
   "source": [
    "text = \"Cześć Patryk, to jest pin do karty naszego klienta: 4589. Jeśli możesz, to zmień mu pin na taki: 0043 w bazie danych. Dzięki!\"\n",
    "\n",
    "def hide_pin(text):\n",
    "    pattern = re.compile(r\"\\d{4}\")\n",
    "    matches = pattern.finditer(text)\n",
    "    for match in(matches):\n",
    "        text = text[:match.span()[0]] + \"(pin)\" + text[match.span()[1] +1:]\n",
    "    return text\n",
    "\n",
    "output = hide_pin(text)\n",
    "print(output)"
   ],
   "metadata": {
    "collapsed": false,
    "pycharm": {
     "name": "#%%\n"
    }
   }
  },
  {
   "cell_type": "markdown",
   "source": [
    "Zadanie 6 <br>\n",
    " *Twoim zadaniem jest stworzyć skrypt, ktory sprawdzi poprawność zapisu dat*.<br>\n",
    " *Musisz wykonać regexy dla takich przypadków:*<br>\n",
    " `dates = [\n",
    "\"2020-10-12\",\n",
    "\"2020.10.12\",\n",
    "\"2020/10/12\",\n",
    "\"12-10-2020\",\n",
    "\"12.10.2020\",\n",
    "\"12/10/2020\",\n",
    "\"12_10_2020\",\n",
    "\"2020_10_12\"\n",
    "]` <BR>\n",
    "*Metodę nazwij `check_date(strdate)` powinna zwracać `true/false`. Spróbuj stworzyć kilka prostrzych regexów i umieścić je w liście. Takie podejście jesy czytelniejsze i pozwala na łatwą rozbudowę metody w przyszłości.*\n",
    "*Metoda powinna zwrócić `False` w dwóch ostatnich przypadkach*"
   ],
   "metadata": {
    "collapsed": false
   }
  },
  {
   "cell_type": "code",
   "execution_count": null,
   "outputs": [],
   "source": [
    "dates = [\n",
    "\"2020-10-12\",\n",
    "\"2020.10.12\",\n",
    "\"2020/10/12\",\n",
    "\"12-10-2020\",\n",
    "\"12.10.2020\",\n",
    "\"12/10/2020\",\n",
    "\"12_10_2020\",\n",
    "\"2020_10_12\"\n",
    "]\n",
    "\n",
    "def check_date(strdate):\n",
    "    dic = {\n",
    "        r\"\\d{4}[-]\\d{2}[-]\\d{2}\",\n",
    "        r\"\\d{4}[\\.]\\d{2}[\\.]\\d{2}\",\n",
    "        r\"\\d{4}[/]\\d{2}[/]\\d{2}\",\n",
    "        r\"\\d{2}[-]\\d{2}[-]\\d{4}\",\n",
    "        r\"\\d{2}[\\.]\\d{2}[\\.]\\d{4}\",\n",
    "        r\"\\d{2}[/]\\d{2}[/]\\d{4}\",\n",
    "        }\n",
    "\n",
    "    for i, j in enumerate(dic):\n",
    "        pattern = re.compile(j)\n",
    "        if pattern.findall(strdate):\n",
    "            return True\n",
    "    return False\n",
    "        # print(f\"{i + 1}: pattern: {j}: {match}\")\n",
    "\n",
    "for i in range(0, len(dates)):\n",
    "    print(f\"{i + 1}. date: {dates[i]}: {check_date(dates[i])}\")\n",
    "\n"
   ],
   "metadata": {
    "collapsed": false,
    "pycharm": {
     "name": "#%%\n"
    }
   }
  }
 ],
 "metadata": {
  "kernelspec": {
   "display_name": "Python 3",
   "language": "python",
   "name": "python3"
  },
  "language_info": {
   "codemirror_mode": {
    "name": "ipython",
    "version": 2
   },
   "file_extension": ".py",
   "mimetype": "text/x-python",
   "name": "python",
   "nbconvert_exporter": "python",
   "pygments_lexer": "ipython2",
   "version": "2.7.6"
  }
 },
 "nbformat": 4,
 "nbformat_minor": 0
}