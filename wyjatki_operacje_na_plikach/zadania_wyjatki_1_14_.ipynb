{
 "metadata": {
  "language_info": {
   "codemirror_mode": {
    "name": "ipython",
    "version": 3
   },
   "file_extension": ".py",
   "mimetype": "text/x-python",
   "name": "python",
   "nbconvert_exporter": "python",
   "pygments_lexer": "ipython3",
   "version": "3.8.3-final"
  },
  "orig_nbformat": 2,
  "kernelspec": {
   "name": "pycharm-e335a363",
   "language": "python",
   "display_name": "PyCharm (python_advanced)"
  }
 },
 "nbformat": 4,
 "nbformat_minor": 2,
 "cells": [
  {
   "cell_type": "markdown",
   "metadata": {},
   "source": [
    "#### Zadanie 1\n",
    "*Stwórz skrypt, który zliczy ilość linii we wskazanym pliku.\n",
    "Informacje na temat czytanego pliku oraz ilośc linii zapisze do drugiego pliku output.txt.\n",
    "Obsłuż wyjątek w przypadku braku pliku we wskazanej ścieżce.*"
   ]
  },
  {
   "cell_type": "code",
   "execution_count": null,
   "metadata": {
    "tags": []
   },
   "outputs": [],
   "source": [
    "def main():\n",
    "    plik_we = r\"sciezka do pliku\"\n",
    "    plik_wy = r\"sciezka do pliku\"\n",
    "    try:\n",
    "      with open(plik_we) as we:\n",
    "        wiersze = we.readlines()\n",
    "        liczba_wierszy = len(wiersze)\n",
    "        print(f\"Liczba linii w pliku to {liczba_wierszy}\")\n",
    "        with open(plik_wy, \"w\") as wy:\n",
    "          wy.writelines(['plik: ',plik_we, ' linie: ', str(liczba_wierszy)])\n",
    "    except FileNotFoundError:\n",
    "        print(\"Nie znaleziono pliku\")\n",
    "\n",
    "main()"
   ]
  },
  {
   "cell_type": "markdown",
   "metadata": {},
   "source": [
    "#### Zadanie 2\n",
    "*Stwórz skrypt, który skasuje plik ze wskazanego folderu.\n",
    "Przygotuj dwie wersje używając:* <br>\n",
    " * __`try except`__\n",
    " * __`if else`__"
   ]
  },
  {
   "cell_type": "code",
   "execution_count": null,
   "metadata": {
    "tags": []
   },
   "outputs": [],
   "source": [
    "import os\n",
    "myfile= r\"sciezka do pliku\"\n",
    "\n",
    "## If file exists, delete it ##\n",
    "if os.path.isfile(myfile):\n",
    "    os.remove(myfile)\n",
    "else:    ## Show an error ##\n",
    "    print(\"Error: %s file not found\" % myfile)"
   ]
  },
  {
   "cell_type": "code",
   "execution_count": null,
   "metadata": {
    "tags": []
   },
   "outputs": [],
   "source": [
    "import os\n",
    "myfile= r\"sciezka do pliku\"\n",
    "try:\n",
    "    os.remove(myfile)\n",
    "except FileNotFoundError as e:\n",
    "    print(e.strerror)"
   ]
  },
  {
   "cell_type": "markdown",
   "metadata": {},
   "source": [
    "#### Zadanie 3\n",
    "\n",
    "*Stwórz skrypt, który skasuje folder ze wskazanej ścieżki.\n",
    "Przygotuj wersje skryptu używając:*\n",
    "* __`try except`__ <br>"
   ]
  },
  {
   "cell_type": "code",
   "execution_count": 1,
   "metadata": {
    "tags": []
   },
   "outputs": [
    {
     "name": "stdout",
     "output_type": "stream",
     "text": [
      "Error: sciezka do pliku - System nie może odnaleźć określonej ścieżki.\n"
     ]
    }
   ],
   "source": [
    "import shutil\n",
    "\n",
    "mydir= r\"sciezka do pliku\"\n",
    "try:\n",
    "    shutil.rmtree(mydir)\n",
    "except OSError as e:\n",
    "    print (\"Error: %s - %s.\" % (e.filename, e.strerror))"
   ]
  },
  {
   "cell_type": "markdown",
   "metadata": {},
   "source": [
    "#### Zadanie 4\n",
    "\n",
    "*Kasowanie __starych__ plików.\n",
    "Stwórz skrypt, który skasuje pliki ze wskazanej ścieżki starsze o jeden dzień od dziś.*\n",
    "*Obsłuż wyjątki, jeśli się ich spodziewasz.*"
   ]
  },
  {
   "cell_type": "code",
   "execution_count": 2,
   "metadata": {
    "tags": []
   },
   "outputs": [
    {
     "name": "stdout",
     "output_type": "stream",
     "text": [
      "System nie może odnaleźć określonej ścieżki\n"
     ]
    }
   ],
   "source": [
    "import os\n",
    "import datetime\n",
    "\n",
    "def main():\n",
    "    try:\n",
    "        katalog = r\"sciezka do pliku\"\n",
    "        pliki = os.listdir(katalog)\n",
    "        print(pliki)\n",
    "        for plik in pliki:        \n",
    "            sciezka_bezwzgledna = os.path.join(katalog, plik)\n",
    "            (mode, ino, dev, nlink, uid, gid, size, atime, mtime, ctime) = os.stat(sciezka_bezwzgledna)\n",
    "            data_modyfikacji = datetime.datetime.fromtimestamp(mtime)\n",
    "            roznica = datetime.datetime.now() - data_modyfikacji\n",
    "            print(f\"{plik}, size = {size}, rozmiar B: {size}, mtime = {data_modyfikacji}, roznica={roznica}, czy plik starszy niż 1 dzień: {roznica.days > 0}\") #roznica.seconds\n",
    "        if roznica.days > 0:\n",
    "            os.remove(sciezka_bezwzgledna)\n",
    "    except FileNotFoundError as e:\n",
    "         print(e.strerror)\n",
    "\n",
    "main()"
   ]
  },
  {
   "cell_type": "markdown",
   "metadata": {},
   "source": [
    "#### Zadanie 5\n",
    "*\"Zabawa z plikiem\"*\n",
    "*Stwórz skrypt, który odczyta zawartość pliku, jeśli pliku nie ma, to wyrzuć wyjątek.*"
   ]
  },
  {
   "cell_type": "code",
   "execution_count": null,
   "metadata": {
    "tags": []
   },
   "outputs": [],
   "source": [
    "def main():\n",
    "    path = r\"sciezka do pliku\"\n",
    "    try:\n",
    "        f = open(path)\n",
    "        print(f.readlines())\n",
    "    except OSError as e:\n",
    "        print(e)\n",
    "\n",
    "main()"
   ]
  },
  {
   "cell_type": "markdown",
   "metadata": {},
   "source": [
    "#### Zadanie 6\n",
    "*Stwórz skrypt, który obsłuży błędnie podaną liczbę typu float*\n",
    "*Liczba może zostać podana przez metodę `input()` lub jako zmienna.*"
   ]
  },
  {
   "cell_type": "code",
   "execution_count": null,
   "metadata": {
    "tags": []
   },
   "outputs": [],
   "source": [
    "napis_wczytany = \"2.,5\" #2.5\n",
    "try:\n",
    "  liczba = float(napis_wczytany)\n",
    "  print(f\"Liczbą jest {liczba}\")\n",
    "except ValueError as e:\n",
    "  print(\"Och nie, nie udało się sparsować liczby! Szczegóły poniżej:\")\n",
    "  print(e)"
   ]
  },
  {
   "cell_type": "markdown",
   "metadata": {},
   "source": [
    "#### Zadanie 7\n",
    "*\"Silnia z minusem\"*\n",
    "Stwórz skrypt, który wyrzuci wyjątek __`ValueError`__ przy błędnie podanej liczbie ujemnej do metody `silnia()`</p>"
   ]
  },
  {
   "cell_type": "code",
   "execution_count": null,
   "metadata": {
    "tags": []
   },
   "outputs": [],
   "source": [
    "# rozw. 1\n",
    "\n",
    "def silnia(n):\n",
    "  if n < 0:\n",
    "    raise ValueError(\"silnia niezdefiniowana dla liczb ujemnych\")\n",
    "  wynik = 1\n",
    "  for i in range(1, n+1):\n",
    "    wynik *= i\n",
    "  return wynik\n",
    "\n",
    "# wywołanie metody z liczbą ujemną\n",
    "silnia(-1)\n"
   ]
  },
  {
   "cell_type": "code",
   "execution_count": null,
   "metadata": {
    "tags": []
   },
   "outputs": [],
   "source": [
    "# obsługa błędu\n",
    "\n",
    "try:\n",
    "  print(f\"Silnia z -5 to {silnia(-5)}\")\n",
    "except ValueError as e:\n",
    "  print(\"Och nie, coś poszło nie tak! Szczegóły poniżej:\")\n",
    "  print(e)"
   ]
  },
  {
   "cell_type": "markdown",
   "metadata": {},
   "source": [
    "#### Zadanie 8\n",
    "\n",
    " *\"Zgadnij liczbę\"*\n",
    " Stwórz skrypt, który wyrzuci wyjątek, gdy liczba bedzie za mala lub za duża.\n",
    " Zdefiniuj odpowiednie wyjątki:\n",
    " `ValueTooSmallError` oraz `ValueTooLargeError` dziedziczące po nadrzędnym zdefiniowanym wyjątku `Error`,\n",
    " który dziedziczy po* `Exception`\n",
    "Stwórz  odpowiednią `def __init__`  w klasie wyjątku z polem `message` opisującym problem.\n"
   ]
  },
  {
   "cell_type": "code",
   "execution_count": null,
   "metadata": {
    "tags": []
   },
   "outputs": [],
   "source": [
    "# główny wyjątek\n",
    "class Error(Exception):\n",
    "    \"\"\"Base class for other exceptions\"\"\"\n",
    "    pass\n",
    "\n",
    "\n",
    "class ValueTooSmallError(Error):\n",
    "    \"\"\"Raised when the input value is too small\"\"\"\n",
    "    def __init__(self, message=\"This value is too small, try again!\"):\n",
    "        self.message = message\n",
    "        super().__init__(self.message)\n",
    "\n",
    "class ValueTooLargeError(Error):\n",
    "    \"\"\"Raised when the input value is too large\"\"\"\n",
    "\n",
    "    def __init__(self, message=\"This value is too large, try again!\"):\n",
    "        self.message = message\n",
    "        super().__init__(self.message)\n",
    "\n",
    "# you need to guess this number\n",
    "number = 10\n",
    "\n",
    "# user guesses a number until he/she gets it right\n",
    "while True:\n",
    "     try:\n",
    "        i_num = int(input(\"Enter a number: \"))\n",
    "        if i_num < number:\n",
    "            raise ValueTooSmallError\n",
    "        elif i_num > number:\n",
    "            raise ValueTooLargeError\n",
    "        break\n",
    "     except ValueTooSmallError as e:\n",
    "         print(e)\n",
    "     except ValueTooLargeError as e:\n",
    "         print(e)\n",
    "\n",
    "print(\"Congratulations! You guessed it correctly.\")"
   ]
  },
  {
   "cell_type": "markdown",
   "metadata": {},
   "source": [
    "#### Zadanie 9\n",
    "*\"Długie zdanie\"*.\n",
    "Stwórz skrypt, który wyrzuci wyjątek, gdy użytkownik na wejściu poda zdanie mniejsze niż 20 znaków.\n",
    "Zdefiniuj odpowiednie wyjątki samodzielnie.\n",
    "Stwórz  odpowiednią `def __init__`  w klasie wyjątku z polem `message` opisującym problem."
   ]
  },
  {
   "cell_type": "code",
   "execution_count": null,
   "metadata": {},
   "outputs": [],
   "source": [
    "class InputTooShort(Exception):\n",
    "    def __init__(self, message=\"To zdanie jest za krótkie!\"):\n",
    "        self.message = message\n",
    "        super().__init__(self.message)\n",
    "\n",
    "user_input = input(\"Wpisz jakieś fajne zdanie: \\n\")\n",
    "\n",
    "if len(user_input) < 20:\n",
    "    raise InputTooShort\n",
    "else:\n",
    "    print(user_input)"
   ]
  },
  {
   "cell_type": "markdown",
   "metadata": {},
   "source": [
    "#### Zadanie 10\n",
    " *\"Ile mam lat?\"*\n",
    " Stwórz skrypt, który wyrzuci wyjątek, gdy użytkownik przekroczy 25 lat. Na wejściu pobieraj rok urodzenia.\n",
    "Stwórz  odpowiednią `def __init__`  w klasie wyjątku z polem `message` opisującym problem. W zadaniu użyj modułu : `datetime`"
   ]
  },
  {
   "cell_type": "code",
   "execution_count": null,
   "metadata": {
    "tags": []
   },
   "outputs": [],
   "source": [
    "import datetime\n",
    "\n",
    "class YouAreTooOld(Exception):\n",
    "\n",
    "    def __init__(self, message=\"jesteś juz ciut za stary :)\"):\n",
    "        self.message = message\n",
    "        super().__init__(self.message)\n",
    "\n",
    "current_year = datetime.datetime.now().year\n",
    "user_year = int(input(\"Podaj rok urodzenia: \"))\n",
    "if current_year - user_year > 25:\n",
    "    raise YouAreTooOld\n",
    "else:\n",
    "    print(\"Wiek poniżej 25 lat.\")"
   ]
  },
  {
   "cell_type": "markdown",
   "metadata": {
    "pycharm": {
     "name": "#%% md\n"
    }
   },
   "source": [
    "#### Zadanie 11\n",
    " *\"Ile ma stron?\"*\n",
    " Wykorzystaj moduł `PyPDF2` do odczytu plików PDF.\n",
    " Stwórz skrypt, który odczyta plik PDF i wyświetli ilość stron. Aby zainstalować moduł wykonaj: `! pip install PyPDF2`"
   ]
  },
  {
   "cell_type": "code",
   "execution_count": null,
   "outputs": [],
   "source": [
    "# ! pip install PyPDF2\n",
    "import PyPDF2\n",
    "\n",
    "pdfFile = open(r'sciezka do pliku pdf', 'rb')\n",
    "pdfReader = PyPDF2.PdfFileReader(pdfFile)\n",
    "print(pdfReader.getNumPages())\n",
    "pageObj = pdfReader.getPage(1)\n",
    "print(pageObj.extractText())\n",
    "pdfFile.close()"
   ],
   "metadata": {
    "collapsed": false,
    "pycharm": {
     "name": "#%%\n"
    }
   }
  },
  {
   "cell_type": "markdown",
   "source": [
    "#### Zadanie 12\n",
    " *\"Podziel PDF\"*\n",
    " Wykorzystaj bibliotekę `PyPDF2` do odczytu plików PDF. Stwórz skrypt, który umożliwi podział pliku PDF.\n",
    " Metodę nazwij: `pdf_split(pdf, startPage, endPage)`"
   ],
   "metadata": {
    "collapsed": false
   }
  },
  {
   "cell_type": "code",
   "execution_count": null,
   "outputs": [],
   "source": [
    "def pdf_split(pdf, startPage, endPage):\n",
    "    pdfFile = open(pdf, 'rb')\n",
    "    pdfReader = PyPDF2.PdfFileReader(pdfFile)\n",
    "    pdfWriter = PyPDF2.PdfFileWriter()\n",
    "    outputpdf = pdf.split('.pdf')[0] + '_part' + '.pdf'\n",
    "    for i in range(startPage, endPage):\n",
    "        pdfWriter.addPage(pdfReader.getPage(i))\n",
    "        with open(outputpdf, \"wb\") as f: # with do pracy ze strumieniamy plików, zastępuje close\n",
    "            pdfWriter.write(f)\n",
    "\n",
    "    pdfFile.close()\n",
    "\n",
    "pdf_split(r'sciezka do pliku pdf', 100, 101)\n"
   ],
   "metadata": {
    "collapsed": false,
    "pycharm": {
     "name": "#%%\n"
    }
   }
  },
  {
   "cell_type": "markdown",
   "source": [
    "#### Zadanie 13\n",
    " *\"Przenieś plik\"*\n",
    "Stwórz skrypt, który przeniesie plik z jednego folderu do drugiego.\n",
    "Zaiportuj dwie biblioteki `os` oraz `shutil`.\n",
    "Wykonaj tą samą czynność wykorzytując dwa sposoby:\n",
    "- przenisienie poprzez zmianę ścieżki do pliku\n",
    "- klasyczne przenoszenie.\n"
   ],
   "metadata": {
    "collapsed": false,
    "pycharm": {
     "name": "#%% md\n"
    }
   }
  },
  {
   "cell_type": "code",
   "execution_count": null,
   "outputs": [],
   "source": [
    "import os\n",
    "import shutil\n",
    "\n",
    "# Move a file by renaming it's path\n",
    "os.rename(r'sciezka/1/dom.pdf', r'sciezka/2/dom.pdf')\n",
    "\n",
    "# Move a file from the directory 1 to 2\n",
    "shutil.move(r'sciezka', r'nowa sciezka')"
   ],
   "metadata": {
    "collapsed": false,
    "pycharm": {
     "name": "#%%\n"
    }
   }
  },
  {
   "cell_type": "markdown",
   "source": [
    "#### Zadanie 14\n",
    "*\"Grupowa zmiana nazw plików\"*\n",
    "Stwórz skrypt, który umożliwi grupową zmianę nazw plików w folderze. Zaimportuj moduł `os`."
   ],
   "metadata": {
    "collapsed": false,
    "pycharm": {
     "name": "#%% md\n"
    }
   }
  },
  {
   "cell_type": "code",
   "execution_count": null,
   "outputs": [],
   "source": [
    "import os\n",
    "\n",
    "def main(prefix, sufix, path_to_files):\n",
    "    try:\n",
    "        for i, f in enumerate(os.listdir(path_to_files)): #enumerate, aby dodac indeks\n",
    "            before = path_to_files + '/' + f\n",
    "            after = path_to_files + '/' + prefix + str(i + 1) + sufix\n",
    "            os.rename(before, after)\n",
    "            print(\"renamed: \" + f + \" to: \" + prefix + str(i + 1) + sufix)\n",
    "    except FileNotFoundError as e:\n",
    "         print(e.strerror)\n",
    "\n",
    "main(\"textowy\",\".txt\", r'X:/example')"
   ],
   "metadata": {
    "collapsed": false,
    "pycharm": {
     "name": "#%%\n"
    },
    "tags": []
   }
  },
  {
   "cell_type": "markdown",
   "metadata": {
    "collapsed": false,
    "pycharm": {
     "name": "#%% md\n"
    }
   },
   "source": [
    "#### Objaśnienie metody `open()`\n",
    "__`w:`__: Otwiera plik do zapisu i tworzy nowy plik, jeśli jeszcze nie istnieje. W przypadku, gdy plik istnieje, zastępuje go. <br>\n",
    "__`w+`__: Otwiera plik do zapisu i tworzy nowy plik, jeśli jeszcze nie istnieje. W przypadku, gdy plik istnieje, zastępuje go.<br>\n",
    "__`r`__ : Otwiera plik tylko do odczytu.<br>\n",
    "__`rb`__: Otwiera plik do odczytu w formacie binarnym.<br>\n",
    "__`wb`__: Otwiera plik do zapisu w formacie binarnym.<br>\n",
    "__`wb+`__:Oba powyższe<br>\n",
    "__`a`__:  Otwiera plik i dodaje nowe treści na koniec pliku (appending)<br>\n",
    "__`+`__: Ogólnie rzecz biorąc, ten znak jest używany obok r, w lub a i oznacza zarówno pisanie, jak i czytanie.<br>\n",
    "Jeśli nie określono trybu pliku, to domyślnie zostanie przyjęty __`r`__.<br>"
   ]
  },
  {
   "cell_type": "markdown",
   "source": [
    "#### Objaśnienie rodzajów wyjątków:\n",
    "\n",
    "`ArithmeticError`:\n",
    "##### Klasa bazowa wyjątków wbudowanych wywoływanych w przypadku wystąpienia różnych błędów arytmetycznych:\n",
    "`OverflowError`, `ZeroDivisionError`, `FloatingPointError`\n",
    "\n",
    "##### `LookupError` Klasa bazowa wyjątków wywoływanych w przypadku użycia niewłaściwego klucza lub indeksu dla uzyskania dostępu do elementów sekwencji: `IndexError`, `KeyError`\n",
    "##### `EOFError` Wywoływany w przypadku, gdy jedna z funkcji wbudowanych `input()` lub `raw_input()` osiągnie koniec pliku `(EOF)`\n",
    "##### `FloatingPointError` Wywoływany w przypadku błędu operacji zmiennoprzecinkowej.\n",
    "##### `IOError` Wywoływany w przypadku wystąpienia błędu operacji wejścia/wyjścia instrukcji `print()`, funkcji wbudowanej `open()` czy też metod obiektów plikowych\n",
    "##### `ImportError` Wywoływany w przypadku wystąpienia błędu instrukcji `import`\n",
    "##### `IndexError` Wywoływany w przypadku użycia indeksu spoza zasięgu\n",
    "##### `KeyError` Wywoływany w przypadku nie wystąpienia klucza\n",
    "##### `MemoryError` Wywoływany w przypadku wyczerpania się pamięci operacji\n",
    "##### `NameError` Wywoływany w przypadku nieodnalezienia lokalnej lub globalnej nazwy\n",
    "##### `OverflowError` Wywoływany w przypadku wystąpienia wyniku operacji arytmetycznej, który jest zbyt duży aby mógł być reprezentowany.\n",
    "##### `SyntaxError` Wywoływany w sytuacji, gdy parser napotka błąd składniowy.\n",
    "##### `TypeError` Wywoływany w sytuacji wykonania operacji wbudowanej na obiektu niewłaściwego typu.\n",
    "##### `ValueError` Wywoływany w przypadku wywołania operacji z argumentem właściwego typu, lecz o nieprawidłowej wartości\n",
    "##### `ZeroDivisionError` Wywoływany w przypadku, gdy drugi argument operacji dzielenia lub reszty z dzielenia `(modulo)` jest równy zero"
   ],
   "metadata": {
    "collapsed": false,
    "pycharm": {
     "name": "#%% md\n"
    }
   }
  }
 ]
}